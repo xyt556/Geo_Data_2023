{
 "cells": [
  {
   "cell_type": "markdown",
   "id": "70cd3167-6732-4e0a-b9d0-b9cda0d42bb2",
   "metadata": {},
   "source": [
    "Rasterio 教案\n",
    "简介\n",
    "\n",
    "Rasterio 是 Python 中一个基于 GDAL 库的栅格数据读写和处理库，支持多种栅格数据格式。在地理空间数据处理中具有重要作用。\n",
    "安装\n",
    "\n",
    "可以使用 pip 安装：\n",
    "\n",
    "shell\n",
    "\n",
    "pip install rasterio\n",
    "\n",
    "读取栅格数据\n",
    "\n",
    "使用 rasterio.open 函数读取栅格数据集。"
   ]
  },
  {
   "cell_type": "code",
   "execution_count": null,
   "id": "e78d87f1-06eb-43a5-aa0f-eb6b1de044b3",
   "metadata": {},
   "outputs": [],
   "source": [
    "import rasterio\n",
    "\n",
    "with rasterio.open('path/to/raster_file.tif') as dataset:\n",
    "    # 获取数据集的元数据\n",
    "    print(dataset.meta)\n",
    "    \n",
    "    # 获取数据集的波段数\n",
    "    num_bands = dataset.count\n",
    "    \n",
    "    # 获取数据集的宽度和高度\n",
    "    width = dataset.width\n",
    "    height = dataset.height\n",
    "    \n",
    "    # 读取栅格数据\n",
    "    data = dataset.read()"
   ]
  },
  {
   "cell_type": "code",
   "execution_count": null,
   "id": "df90ff1f-206a-458e-bbae-dbbece0e932b",
   "metadata": {},
   "outputs": [],
   "source": [
    "显示栅格数据\n",
    "\n",
    "使用 rasterio.plot.show 函数可以显示栅格数据。\n",
    "该库提供了一组\n",
    "python\n",
    "\n",
    "from rasterio.plot import show\n",
    "\n",
    "show(dataset)\n",
    "\n",
    "可以使用 rasterio.plot.adjust_band 函数调整波段的范围。\n",
    "\n",
    "python\n",
    "\n",
    "from rasterio.plot import adjust_band\n",
    "\n",
    "# 将波段值缩放到 [0, 1] 范围内\n",
    "data = adjust_band(data)\n",
    "\n",
    "可视化\n",
    "\n",
    "使用 Matplotlib 可以实现更加灵活的栅格数据可视化。\n",
    "\n",
    "python\n",
    "\n",
    "import matplotlib.pyplot as plt\n",
    "\n",
    "# 显示 RGB 图像\n",
    "rgb = dataset.read([3, 2, 1])\n",
    "fig, ax = plt.subplots()\n",
    "ax.imshow(rgb.transpose((1, 2, 0)))\n",
    "\n",
    "写入栅格数据\n",
    "\n",
    "使用 rasterio.open 函数以写入模式打开数据集，可以写入栅格数据。\n",
    "\n",
    "python\n",
    "\n",
    "# 创建一个新的栅格数据集\n",
    "new_dataset = rasterio.open(\n",
    "    'path/to/new_raster_file.tif',\n",
    "    'w',\n",
    "    driver='GTiff',\n",
    "    width=width,\n",
    "    height=height,\n",
    "    count=num_bands,\n",
    "    dtype=data.dtype,\n",
    "    crs=dataset.crs,\n",
    "    transform=dataset.transform\n",
    ")\n",
    "\n",
    "# 写入栅格数据\n",
    "new_dataset.write(data)\n",
    "\n",
    "# 关闭数据集\n",
    "new_dataset.close()\n",
    "\n",
    "总结\n",
    "\n",
    "以上是 Rasterio 的基本使用方法，可以实现栅格数据的读写和可视化，同时支持多种栅格数据格式。可以根据具体的需求进一步学习和应用。"
   ]
  },
  {
   "cell_type": "markdown",
   "id": "2b5d5f2f-2a14-460e-a19c-7cea1d019867",
   "metadata": {},
   "source": [
    "写一个关于rasterio的教案，请一定用Markdown格式输出"
   ]
  }
 ],
 "metadata": {
  "kernelspec": {
   "display_name": "Python 3 (ipykernel)",
   "language": "python",
   "name": "python3"
  },
  "language_info": {
   "codemirror_mode": {
    "name": "ipython",
    "version": 3
   },
   "file_extension": ".py",
   "mimetype": "text/x-python",
   "name": "python",
   "nbconvert_exporter": "python",
   "pygments_lexer": "ipython3",
   "version": "3.10.11"
  }
 },
 "nbformat": 4,
 "nbformat_minor": 5
}
