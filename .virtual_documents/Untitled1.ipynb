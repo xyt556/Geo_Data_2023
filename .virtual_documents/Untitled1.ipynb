import rasterio

with rasterio.open('path/to/raster_file.tif') as dataset:
    # 获取数据集的元数据
    print(dataset.meta)
    
    # 获取数据集的波段数
    num_bands = dataset.count
    
    # 获取数据集的宽度和高度
    width = dataset.width
    height = dataset.height
    
    # 读取栅格数据
    data = dataset.read()


显示栅格数据

使用 rasterio.plot.show 函数可以显示栅格数据。
该库提供了一组
python

from rasterio.plot import show

show(dataset)

可以使用 rasterio.plot.adjust_band 函数调整波段的范围。

python

from rasterio.plot import adjust_band

# 将波段值缩放到 [0, 1] 范围内
data = adjust_band(data)

可视化

使用 Matplotlib 可以实现更加灵活的栅格数据可视化。

python

import matplotlib.pyplot as plt

# 显示 RGB 图像
rgb = dataset.read([3, 2, 1])
fig, ax = plt.subplots()
ax.imshow(rgb.transpose((1, 2, 0)))

写入栅格数据

使用 rasterio.open 函数以写入模式打开数据集，可以写入栅格数据。

python

# 创建一个新的栅格数据集
new_dataset = rasterio.open(
    'path/to/new_raster_file.tif',
    'w',
    driver='GTiff',
    width=width,
    height=height,
    count=num_bands,
    dtype=data.dtype,
    crs=dataset.crs,
    transform=dataset.transform
)

# 写入栅格数据
new_dataset.write(data)

# 关闭数据集
new_dataset.close()

总结

以上是 Rasterio 的基本使用方法，可以实现栅格数据的读写和可视化，同时支持多种栅格数据格式。可以根据具体的需求进一步学习和应用。
