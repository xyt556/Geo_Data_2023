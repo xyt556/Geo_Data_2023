 get_ipython().run_line_magic("matplotlib", " widget")


import rasterio
tif_file = './gdata/geotiff_file.tif'


dataset = rasterio.open('./gdata/geotiff_file.tif')


import rasterio

# 打开栅格数据文件
with rasterio.open(tif_file) as src:
    # 获取栅格数据的元数据
    print(src.profile)
    print("\n")
    # 读取栅格数据
    data = src.read()
    print(data.shape)


dataset.name


dataset.mode


dataset.closed


import numpy as np
import rasterio

# 打开栅格数据文件
with rasterio.open(tif_file) as src:
    # 读取栅格数据
    data = src.read()
    
    # 计算栅格数据的平均值
    mean = np.mean(data)
    print(mean)


dataset.count


dataset.width


dataset.height


{i: dtype for i, dtype in zip(dataset.indexes, dataset.dtypes)}


dataset.bounds


dataset.transform


dataset.transform * (0, 0)


dataset.transform * (dataset.width, dataset.height)


dataset.crs


dataset.indexes


band1 = dataset.read(1)


band1


 band1[dataset.height // 2, dataset.width // 2]


import rasterio
import matplotlib.pyplot as plt
from matplotlib.font_manager import FontProperties

# 指定字体，例如SimHei
font = FontProperties(fname=r"C:\Windows\Fonts\simhei.ttf", size=14)

# 打开栅格数据集
dataset = rasterio.open('./gdata/geotiff_file.tif')
# 获取数据集的行数和列数
rows = dataset.height
cols = dataset.width

print("行数:", rows)
print("列数:", cols)
# 读取整个数据集的像素值数据
data = dataset.read()

# 打印数据集的形状和数据类型
print("数据集形状:", data.shape)
print("数据集数据类型:", data.dtype)

# 绘制原始影像
plt.subplot(1, 2, 1)
plt.imshow(data[0], cmap='gray')
plt.title('原始影像', fontproperties=font)  # 使用指定字体

# 读取数据集的一个子区域（以行和列的范围为例）
# 假设你想要读取以第100行和第100列为左上角，以第200行和第200列为右下角的子区域，
row_range = (100, 200)
col_range = (100, 200)
subset = dataset.read(window=rasterio.windows.Window(*col_range, *row_range))

# 打印子区域的形状和数据类型
print("子区域形状:", subset.shape)
print("子区域数据类型:", subset.dtype)

# 绘制子区域影像
# plt.figure()
plt.subplot(1, 2, 2)
plt.imshow(subset[0], cmap='gray')
plt.title('子区域影像', fontproperties=font)  # 使用指定字体

# 显示图像
plt.show()



import rasterio
import matplotlib.pyplot as plt

# 读取栅格数据
with rasterio.open('./gdata/geotiff_file.tif') as dataset:
    # 获取数据集的元数据
    print(dataset.meta)

    # 读取所需的波段
    band = dataset.read(1)

    # 绘制图像
    fig, ax = plt.subplots(figsize=(10, 10))
    ax.imshow(band, cmap='gray')

    # 设置标题和轴标签
    ax.set_title('Raster Image')
    ax.set_xlabel('Column #')
    ax.set_ylabel('Row #')

    # 显示图像
    plt.show()



import rasterio
from rasterio.plot import show

# 打开栅格数据集
with rasterio.open('./gdata/geotiff_file.tif') as dataset:

    # 创建包含两个子图的图像
    fig, (ax1, ax2) = plt.subplots(1, 2, figsize=(12, 6))

    # 显示第一个RGB彩色合成的图像
    show(dataset.read([1,2,3]), ax=ax1, title='RGB_1')

    # 显示第二个彩色合成的图像
    show(dataset.read([3,2,1]), ax=ax2, title='RGB_2')

    # 添加颜色条
    fig.colorbar(ax1.images[0], ax=[ax1, ax2], shrink=0.6)



x, y = (dataset.bounds.left + 100, dataset.bounds.top - 50)
row, col = dataset.index(x, y)
row, col


band1[row, col]


dataset.xy(dataset.height // 2, dataset.width // 2)


import numpy as np
x = np.linspace(-4.0, 4.0, 240)
y = np.linspace(-3.0, 3.0, 180)
X, Y = np.meshgrid(x, y)
Z1 = np.exp(-2 * np.log(2) * ((X - 0.5) ** 2 + (Y - 0.5) ** 2) / 1 ** 2)
Z2 = np.exp(-3 * np.log(2) * ((X + 0.5) ** 2 + (Y + 0.5) ** 2) / 2.5 ** 2)
Z = 10.0 * (Z2 - Z1)


import matplotlib.pyplot as plt

# 绘制 Z 图像
plt.figure()
plt.imshow(Z, cmap='jet')
plt.colorbar()
plt.show()



# 绘制等值线图

# 绘制等值线
plt.figure()
contours = plt.contour(X, Y, Z, cmap='cool')
plt.clabel(contours, inline=True, fontsize=8)
plt.show()


from rasterio.transform import from_origin
res = (x[-1] - x[0]) / 240.0
transform = from_origin(x[0] - res / 2, y[-1] + res / 2, res, res)
transform


new_dataset = rasterio.open(
      '/tmp/new.tif',
      'w',
      driver='GTiff',
      height=Z.shape[0],
      width=Z.shape[1],
      count=1,
      dtype=Z.dtype,
      crs='+proj=latlong',
      transform=transform,
  )


new_dataset.write(Z, 1)


new_dataset.close()


with rasterio.open(
     './tmp/new.tif',
     'w',
     driver='GTiff',
     height=Z.shape[0],
     width=Z.shape[1],
     count=1,
     dtype=Z.dtype,
     crs='+proj=latlong',
     transform=transform,
 ) as dst:
     dst.write(Z, 1)


plt.figure()
plt.imshow(Z, cmap='jet')
plt.colorbar()
plt.show()


import rasterio
from rasterio.plot import show

# 读取栅格数据
with rasterio.open('./gdata/geotiff_file.tif') as dataset:
    # 获取数据集的元数据
    print(dataset.meta)
    
    # 显示栅格数据
    plt.figure()
    show(dataset)



import rasterio
from rasterio.plot import show

# 读取栅格数据
with rasterio.open('./gdata/geotiff_file.tif') as dataset:
    # 获取数据集的元数据
    print(dataset.meta)
    
    # 定义要显示的波段组合
    bands_to_show = (3, 2, 1)  # 在这里选择需要的波段组合，这里的(3, 2, 1)表示红、绿、蓝三个波段

    # 读取所需的波段
    bands_data = dataset.read(bands_to_show)

    # 创建新的栅格数据集
    new_dataset = rasterio.open(
        './gdata/rgb_geotiff_file.tif',
        'w',
        driver='GTiff',
        width=dataset.width,
        height=dataset.height,
        count=len(bands_to_show),
        dtype=dataset.dtypes[0],
        crs=dataset.crs,
        transform=dataset.transform
    )

    # 将波段写入新数据集
    for i, band_data in enumerate(bands_data):
        new_dataset.write(band_data, i+1)

    # 关闭数据集
    new_dataset.close()

    plt.figure()
    # 显示栅格数据
    show(rasterio.open('./gdata/rgb_geotiff_file.tif'))

