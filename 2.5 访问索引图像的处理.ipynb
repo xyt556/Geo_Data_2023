{
 "cells": [
  {
   "cell_type": "markdown",
   "metadata": {},
   "source": [
    "# 2.5 访问索引图像的处理"
   ]
  },
  {
   "cell_type": "markdown",
   "metadata": {},
   "source": [
    "图像 lu75i1.tif 是索引图像，使用gdalinfo来查看的话，可以看见有如下的信息："
   ]
  },
  {
   "cell_type": "code",
   "execution_count": 1,
   "metadata": {
    "ExecuteTime": {
     "start_time": "2023-04-24T09:35:52.682162Z",
     "end_time": "2023-04-24T09:35:52.724884Z"
    }
   },
   "outputs": [],
   "source": [
    "from osgeo import gdal"
   ]
  },
  {
   "cell_type": "code",
   "execution_count": 3,
   "metadata": {
    "ExecuteTime": {
     "end_time": "2023-04-24T08:24:36.770163Z",
     "start_time": "2023-04-24T08:24:34.173678Z"
    }
   },
   "outputs": [
    {
     "name": "stdout",
     "output_type": "stream",
     "text": [
      "Driver: GTiff/GeoTIFF\n",
      "Files: ./gdata/lu75i1.tif\n",
      "       ./gdata/lu75i1.tif.ovr\n",
      "       ./gdata/lu75i1.tif.aux.xml\n",
      "Size is 6122, 4669\n",
      "Coordinate System is:\n",
      "PROJCRS[\"Albers_Conic_Equal_Area\",\n",
      "    BASEGEOGCRS[\"GCS_X\",\n",
      "        DATUM[\"unknown\",\n",
      "            ELLIPSOID[\"unretrievable_using_WGS84\",6378137,298.257223563,\n",
      "                LENGTHUNIT[\"metre\",1,\n",
      "                    ID[\"EPSG\",9001]]]],\n",
      "        PRIMEM[\"Greenwich\",0,\n",
      "            ANGLEUNIT[\"degree\",0.0174532925199433,\n",
      "                ID[\"EPSG\",9122]]]],\n",
      "    CONVERSION[\"Albers Equal Area\",\n",
      "        METHOD[\"Albers Equal Area\",\n",
      "            ID[\"EPSG\",9822]],\n",
      "        PARAMETER[\"Latitude of false origin\",0,\n",
      "            ANGLEUNIT[\"degree\",0.0174532925199433],\n",
      "            ID[\"EPSG\",8821]],\n",
      "        PARAMETER[\"Longitude of false origin\",105,\n",
      "            ANGLEUNIT[\"degree\",0.0174532925199433],\n",
      "            ID[\"EPSG\",8822]],\n",
      "        PARAMETER[\"Latitude of 1st standard parallel\",25,\n",
      "            ANGLEUNIT[\"degree\",0.0174532925199433],\n",
      "            ID[\"EPSG\",8823]],\n",
      "        PARAMETER[\"Latitude of 2nd standard parallel\",47,\n",
      "            ANGLEUNIT[\"degree\",0.0174532925199433],\n",
      "            ID[\"EPSG\",8824]],\n",
      "        PARAMETER[\"Easting at false origin\",0,\n",
      "            LENGTHUNIT[\"metre\",1],\n",
      "            ID[\"EPSG\",8826]],\n",
      "        PARAMETER[\"Northing at false origin\",0,\n",
      "            LENGTHUNIT[\"metre\",1],\n",
      "            ID[\"EPSG\",8827]]],\n",
      "    CS[Cartesian,2],\n",
      "        AXIS[\"easting\",east,\n",
      "            ORDER[1],\n",
      "            LENGTHUNIT[\"metre\",1,\n",
      "                ID[\"EPSG\",9001]]],\n",
      "        AXIS[\"northing\",north,\n",
      "            ORDER[2],\n",
      "            LENGTHUNIT[\"metre\",1,\n",
      "                ID[\"EPSG\",9001]]]]\n",
      "Data axis to CRS axis mapping: 1,2\n",
      "Origin = (1852951.760316815227270,5309350.360150607302785)\n",
      "Pixel Size = (30.000000000000000,-30.000000000000000)\n",
      "Metadata:\n",
      "  AREA_OR_POINT=Area\n",
      "  DataType=Thematic\n",
      "Image Structure Metadata:\n",
      "  COMPRESSION=LZW\n",
      "  INTERLEAVE=BAND\n",
      "Corner Coordinates:\n",
      "Upper Left  ( 1852951.760, 5309350.360) (129d35'30.45\"E, 46d56'20.01\"N)\n",
      "Lower Left  ( 1852951.760, 5169280.360) (129d 8'55.08\"E, 45d43'10.61\"N)\n",
      "Upper Right ( 2036611.760, 5309350.360) (131d54'59.43\"E, 46d30'55.88\"N)\n",
      "Lower Right ( 2036611.760, 5169280.360) (131d26' 7.21\"E, 45d18'19.30\"N)\n",
      "Center      ( 1944781.760, 5239315.360) (130d31'28.35\"E, 46d 7'26.29\"N)\n",
      "Band 1 Block=128x128 Type=Byte, ColorInterp=Palette\n",
      "  Min=0.000 Max=18.000 \n",
      "  Minimum=0.000, Maximum=18.000, Mean=3.791, StdDev=3.385\n",
      "  NoData Value=255\n",
      "  Overviews: 3061x2335, 1531x1168, 766x584, 383x292, 192x146\n",
      "  Metadata:\n",
      "    RepresentationType=THEMATIC\n",
      "    STATISTICS_COVARIANCES=11.45841938446506\n",
      "    STATISTICS_MAXIMUM=18\n",
      "    STATISTICS_MEAN=3.7912636531876\n",
      "    STATISTICS_MINIMUM=0\n",
      "    STATISTICS_SKIPFACTORX=1\n",
      "    STATISTICS_SKIPFACTORY=1\n",
      "    STATISTICS_STDDEV=3.3850287125023\n",
      "  Color Table (RGB with 256 entries)\n",
      "    0: 196,88,130,255\n",
      "    1: 77,25,29,255\n",
      "    2: 5,22,252,255\n",
      "    3: 201,170,250,255\n",
      "    4: 26,161,35,255\n",
      "    5: 59,116,237,255\n",
      "    6: 13,18,89,255\n",
      "    7: 111,238,252,255\n",
      "    8: 247,20,221,255\n",
      "    9: 120,30,117,255\n",
      "   10: 40,71,82,255\n",
      "   11: 207,245,110,255\n",
      "   12: 64,250,35,255\n",
      "   13: 217,195,176,255\n",
      "   14: 28,138,99,255\n",
      "   15: 115,68,235,255\n",
      "   16: 237,210,2,255\n",
      "   17: 209,10,10,255\n",
      "   18: 128,105,32,255\n",
      "   19: 0,0,0,255\n",
      "   20: 0,0,0,255\n",
      "   21: 0,0,0,255\n",
      "   22: 0,0,0,255\n",
      "   23: 0,0,0,255\n",
      "   24: 0,0,0,255\n",
      "   25: 0,0,0,255\n",
      "   26: 0,0,0,255\n",
      "   27: 0,0,0,255\n",
      "   28: 0,0,0,255\n",
      "   29: 0,0,0,255\n",
      "   30: 0,0,0,255\n",
      "   31: 0,0,0,255\n",
      "   32: 0,0,0,255\n",
      "   33: 0,0,0,255\n",
      "   34: 0,0,0,255\n",
      "   35: 0,0,0,255\n",
      "   36: 0,0,0,255\n",
      "   37: 0,0,0,255\n",
      "   38: 0,0,0,255\n",
      "   39: 0,0,0,255\n",
      "   40: 0,0,0,255\n",
      "   41: 0,0,0,255\n",
      "   42: 0,0,0,255\n",
      "   43: 0,0,0,255\n",
      "   44: 0,0,0,255\n",
      "   45: 0,0,0,255\n",
      "   46: 0,0,0,255\n",
      "   47: 0,0,0,255\n",
      "   48: 0,0,0,255\n",
      "   49: 0,0,0,255\n",
      "   50: 0,0,0,255\n",
      "   51: 0,0,0,255\n",
      "   52: 0,0,0,255\n",
      "   53: 0,0,0,255\n",
      "   54: 0,0,0,255\n",
      "   55: 0,0,0,255\n",
      "   56: 0,0,0,255\n",
      "   57: 0,0,0,255\n",
      "   58: 0,0,0,255\n",
      "   59: 0,0,0,255\n",
      "   60: 0,0,0,255\n",
      "   61: 0,0,0,255\n",
      "   62: 0,0,0,255\n",
      "   63: 0,0,0,255\n",
      "   64: 0,0,0,255\n",
      "   65: 0,0,0,255\n",
      "   66: 0,0,0,255\n",
      "   67: 0,0,0,255\n",
      "   68: 0,0,0,255\n",
      "   69: 0,0,0,255\n",
      "   70: 0,0,0,255\n",
      "   71: 0,0,0,255\n",
      "   72: 0,0,0,255\n",
      "   73: 0,0,0,255\n",
      "   74: 0,0,0,255\n",
      "   75: 0,0,0,255\n",
      "   76: 0,0,0,255\n",
      "   77: 0,0,0,255\n",
      "   78: 0,0,0,255\n",
      "   79: 0,0,0,255\n",
      "   80: 0,0,0,255\n",
      "   81: 0,0,0,255\n",
      "   82: 0,0,0,255\n",
      "   83: 0,0,0,255\n",
      "   84: 0,0,0,255\n",
      "   85: 0,0,0,255\n",
      "   86: 0,0,0,255\n",
      "   87: 0,0,0,255\n",
      "   88: 0,0,0,255\n",
      "   89: 0,0,0,255\n",
      "   90: 0,0,0,255\n",
      "   91: 0,0,0,255\n",
      "   92: 0,0,0,255\n",
      "   93: 0,0,0,255\n",
      "   94: 0,0,0,255\n",
      "   95: 0,0,0,255\n",
      "   96: 0,0,0,255\n",
      "   97: 0,0,0,255\n",
      "   98: 0,0,0,255\n",
      "   99: 0,0,0,255\n",
      "  100: 0,0,0,255\n",
      "  101: 0,0,0,255\n",
      "  102: 0,0,0,255\n",
      "  103: 0,0,0,255\n",
      "  104: 0,0,0,255\n",
      "  105: 0,0,0,255\n",
      "  106: 0,0,0,255\n",
      "  107: 0,0,0,255\n",
      "  108: 0,0,0,255\n",
      "  109: 0,0,0,255\n",
      "  110: 0,0,0,255\n",
      "  111: 0,0,0,255\n",
      "  112: 0,0,0,255\n",
      "  113: 0,0,0,255\n",
      "  114: 0,0,0,255\n",
      "  115: 0,0,0,255\n",
      "  116: 0,0,0,255\n",
      "  117: 0,0,0,255\n",
      "  118: 0,0,0,255\n",
      "  119: 0,0,0,255\n",
      "  120: 0,0,0,255\n",
      "  121: 0,0,0,255\n",
      "  122: 0,0,0,255\n",
      "  123: 0,0,0,255\n",
      "  124: 0,0,0,255\n",
      "  125: 0,0,0,255\n",
      "  126: 0,0,0,255\n",
      "  127: 0,0,0,255\n",
      "  128: 0,0,0,255\n",
      "  129: 0,0,0,255\n",
      "  130: 0,0,0,255\n",
      "  131: 0,0,0,255\n",
      "  132: 0,0,0,255\n",
      "  133: 0,0,0,255\n",
      "  134: 0,0,0,255\n",
      "  135: 0,0,0,255\n",
      "  136: 0,0,0,255\n",
      "  137: 0,0,0,255\n",
      "  138: 0,0,0,255\n",
      "  139: 0,0,0,255\n",
      "  140: 0,0,0,255\n",
      "  141: 0,0,0,255\n",
      "  142: 0,0,0,255\n",
      "  143: 0,0,0,255\n",
      "  144: 0,0,0,255\n",
      "  145: 0,0,0,255\n",
      "  146: 0,0,0,255\n",
      "  147: 0,0,0,255\n",
      "  148: 0,0,0,255\n",
      "  149: 0,0,0,255\n",
      "  150: 0,0,0,255\n",
      "  151: 0,0,0,255\n",
      "  152: 0,0,0,255\n",
      "  153: 0,0,0,255\n",
      "  154: 0,0,0,255\n",
      "  155: 0,0,0,255\n",
      "  156: 0,0,0,255\n",
      "  157: 0,0,0,255\n",
      "  158: 0,0,0,255\n",
      "  159: 0,0,0,255\n",
      "  160: 0,0,0,255\n",
      "  161: 0,0,0,255\n",
      "  162: 0,0,0,255\n",
      "  163: 0,0,0,255\n",
      "  164: 0,0,0,255\n",
      "  165: 0,0,0,255\n",
      "  166: 0,0,0,255\n",
      "  167: 0,0,0,255\n",
      "  168: 0,0,0,255\n",
      "  169: 0,0,0,255\n",
      "  170: 0,0,0,255\n",
      "  171: 0,0,0,255\n",
      "  172: 0,0,0,255\n",
      "  173: 0,0,0,255\n",
      "  174: 0,0,0,255\n",
      "  175: 0,0,0,255\n",
      "  176: 0,0,0,255\n",
      "  177: 0,0,0,255\n",
      "  178: 0,0,0,255\n",
      "  179: 0,0,0,255\n",
      "  180: 0,0,0,255\n",
      "  181: 0,0,0,255\n",
      "  182: 0,0,0,255\n",
      "  183: 0,0,0,255\n",
      "  184: 0,0,0,255\n",
      "  185: 0,0,0,255\n",
      "  186: 0,0,0,255\n",
      "  187: 0,0,0,255\n",
      "  188: 0,0,0,255\n",
      "  189: 0,0,0,255\n",
      "  190: 0,0,0,255\n",
      "  191: 0,0,0,255\n",
      "  192: 0,0,0,255\n",
      "  193: 0,0,0,255\n",
      "  194: 0,0,0,255\n",
      "  195: 0,0,0,255\n",
      "  196: 0,0,0,255\n",
      "  197: 0,0,0,255\n",
      "  198: 0,0,0,255\n",
      "  199: 0,0,0,255\n",
      "  200: 0,0,0,255\n",
      "  201: 0,0,0,255\n",
      "  202: 0,0,0,255\n",
      "  203: 0,0,0,255\n",
      "  204: 0,0,0,255\n",
      "  205: 0,0,0,255\n",
      "  206: 0,0,0,255\n",
      "  207: 0,0,0,255\n",
      "  208: 0,0,0,255\n",
      "  209: 0,0,0,255\n",
      "  210: 0,0,0,255\n",
      "  211: 0,0,0,255\n",
      "  212: 0,0,0,255\n",
      "  213: 0,0,0,255\n",
      "  214: 0,0,0,255\n",
      "  215: 0,0,0,255\n",
      "  216: 0,0,0,255\n",
      "  217: 0,0,0,255\n",
      "  218: 0,0,0,255\n",
      "  219: 0,0,0,255\n",
      "  220: 0,0,0,255\n",
      "  221: 0,0,0,255\n",
      "  222: 0,0,0,255\n",
      "  223: 0,0,0,255\n",
      "  224: 0,0,0,255\n",
      "  225: 0,0,0,255\n",
      "  226: 0,0,0,255\n",
      "  227: 0,0,0,255\n",
      "  228: 0,0,0,255\n",
      "  229: 0,0,0,255\n",
      "  230: 0,0,0,255\n",
      "  231: 0,0,0,255\n",
      "  232: 0,0,0,255\n",
      "  233: 0,0,0,255\n",
      "  234: 0,0,0,255\n",
      "  235: 0,0,0,255\n",
      "  236: 0,0,0,255\n",
      "  237: 0,0,0,255\n",
      "  238: 0,0,0,255\n",
      "  239: 0,0,0,255\n",
      "  240: 0,0,0,255\n",
      "  241: 0,0,0,255\n",
      "  242: 0,0,0,255\n",
      "  243: 0,0,0,255\n",
      "  244: 0,0,0,255\n",
      "  245: 0,0,0,255\n",
      "  246: 0,0,0,255\n",
      "  247: 0,0,0,255\n",
      "  248: 0,0,0,255\n",
      "  249: 0,0,0,255\n",
      "  250: 0,0,0,255\n",
      "  251: 0,0,0,255\n",
      "  252: 0,0,0,255\n",
      "  253: 0,0,0,255\n",
      "  254: 0,0,0,255\n",
      "  255: 0,0,0,0\n"
     ]
    }
   ],
   "source": [
    "!gdalinfo ./gdata/lu75i1.tif"
   ]
  },
  {
   "cell_type": "markdown",
   "metadata": {},
   "source": [
    "显示的是索引图像的颜色查找表。"
   ]
  },
  {
   "cell_type": "code",
   "execution_count": 4,
   "metadata": {},
   "outputs": [
    {
     "data": {
      "text/plain": [
       "2"
      ]
     },
     "execution_count": 4,
     "metadata": {},
     "output_type": "execute_result"
    }
   ],
   "source": [
    "from osgeo import gdal\n",
    "from osgeo import gdalconst\n",
    "dataset = gdal.Open('./gdata/lu75i1.tif')\n",
    "band = dataset.GetRasterBand(1)\n",
    "band.GetRasterColorInterpretation()"
   ]
  },
  {
   "cell_type": "code",
   "execution_count": 5,
   "metadata": {},
   "outputs": [
    {
     "data": {
      "text/plain": [
       "2"
      ]
     },
     "execution_count": 5,
     "metadata": {},
     "output_type": "execute_result"
    }
   ],
   "source": [
    "from osgeo import gdalconst\n",
    "gdalconst.GCI_PaletteIndex"
   ]
  },
  {
   "cell_type": "code",
   "execution_count": 6,
   "metadata": {},
   "outputs": [
    {
     "name": "stdout",
     "output_type": "stream",
     "text": [
      "246:(0, 0, 0, 255)\n",
      "247:(0, 0, 0, 255)\n",
      "248:(0, 0, 0, 255)\n",
      "249:(0, 0, 0, 255)\n",
      "250:(0, 0, 0, 255)\n",
      "251:(0, 0, 0, 255)\n",
      "252:(0, 0, 0, 255)\n",
      "253:(0, 0, 0, 255)\n",
      "254:(0, 0, 0, 255)\n",
      "255:(0, 0, 0, 0)\n"
     ]
    }
   ],
   "source": [
    "colormap = band.GetRasterColorTable()\n",
    "dir(colormap)\n",
    "colormap.GetCount()\n",
    "colormap.GetPaletteInterpretation()\n",
    "gdalconst.GPI_RGB\n",
    "for i in range(colormap.GetCount() - 10, colormap.GetCount()):\n",
    "    print(\"%i:%s\" % (i, colormap.GetColorEntry(i)))"
   ]
  },
  {
   "cell_type": "markdown",
   "metadata": {},
   "source": [
    "可以看到最后输出的几行，同样得到了这幅索引图像的颜色查找表。\n",
    "\n",
    "通过GetRasterColorInterpretation()的返回值2， 我们知道我们的图像是一个颜色表索引的图像， 而不是纯粹的黑白灰度图像。这意味着我们读出的数据有可能不是真实的数据。 这些数据只是一个个实际数据的索引。真实数据存储在另一个表中"
   ]
  },
  {
   "cell_type": "markdown",
   "metadata": {},
   "source": [
    "## 2.5.1 ColorMap颜色定义"
   ]
  },
  {
   "cell_type": "markdown",
   "metadata": {},
   "source": [
    "ColorMap的定义在下面有详细的解释 :\n",
    "\n",
    "颜色表： 一个颜色表可能包含一个或者更多的如下面这种C结构描述的颜色元素。"
   ]
  },
  {
   "cell_type": "markdown",
   "metadata": {},
   "source": [
    "typedef struct\n",
    "{\n",
    "/- gray, red, cyan or hue -/\n",
    "short      c1;\n",
    "/- green, magenta, or lightness -/\n",
    "short      c2;\n",
    "/- blue, yellow, or saturation -/\n",
    "short      c3;\n",
    "/- alpha or blackband -/\n",
    "short      c4;\n",
    "} GDALColorEntry;"
   ]
  },
  {
   "cell_type": "markdown",
   "metadata": {},
   "source": [
    "颜色表也有一个色彩解析值。（GDALPaletteInterp）这个值有可能是下面值的一种。\n",
    "\n",
    "并且描述了c1,c2,c3,c4该如何解释。\n",
    "\n",
    "- GPI_GRAY: c1表示灰度值\n",
    "- GPI_RGB: c1表示红，c2表示绿，c3表示蓝，c4表示Alpha\n",
    "- GPI_CYMP: c1表示青，c2表示品，c3表示黄，c4表示黑\n",
    "- GPI_HLS: c1表示色调，c2表示亮度，c3表示饱和度\n",
    "虽然有颜色表示数的区别，但是用GetColorEntry读出的都是4个值， 根据PaletteInterp枚举值看截取其中的几个值形成的颜色。"
   ]
  },
  {
   "cell_type": "code",
   "execution_count": 9,
   "metadata": {},
   "outputs": [
    {
     "data": {
      "text/plain": [
       "1"
      ]
     },
     "execution_count": 9,
     "metadata": {},
     "output_type": "execute_result"
    }
   ],
   "source": [
    "from osgeo import gdal\n",
    "dataset = gdal.Open(\"./gdata/lu75i1.tif\")\n",
    "band = dataset.GetRasterBand(1)\n",
    "colormap = band.GetRasterColorTable()\n",
    "colormap.GetPaletteInterpretation()"
   ]
  },
  {
   "cell_type": "code",
   "execution_count": 10,
   "metadata": {},
   "outputs": [
    {
     "data": {
      "text/plain": [
       "256"
      ]
     },
     "execution_count": 10,
     "metadata": {},
     "output_type": "execute_result"
    }
   ],
   "source": [
    "colormap.GetCount()"
   ]
  },
  {
   "cell_type": "markdown",
   "metadata": {},
   "source": [
    "通过用GetRasterColorTable获得了颜色表， 通过GetPaletteInterpretation知道我们获得的颜色表是一个RGB颜色表。 GDAL支持多种颜色表，具体可以参考gdalconst模块中GPI打头的枚举值。 然后我们可以通过GetCount来获得颜色数量， 通过GetColorEntry获得颜色表中的值。这里的颜色值都是一个4值的元组。 里面有意义的只有前三个(如果颜色模型是GPI_RGB, GPI_HLS， 都使用前3个，如果采用GPI_CMYK，则4个值都有意义了)。"
   ]
  },
  {
   "cell_type": "markdown",
   "metadata": {},
   "source": [
    "## 2.5.2 颜色空间\n",
    "gdalconst 与整型的对应值\n",
    "\n",
    "类型\n",
    "\n",
    "gdalconst属性\n",
    "\n",
    "整型值\n",
    "\n",
    "未定义\n",
    "\n",
    "GCI_Undefined\n",
    "\n",
    "0\n",
    "\n",
    "Greyscale\n",
    "\n",
    "GCI_GrayIndex\n",
    "\n",
    "1\n",
    "\n",
    "Paletted (see associated color table)\n",
    "\n",
    "GCI_PaletteIndex\n",
    "\n",
    "2\n",
    "\n",
    "Red band of RGBA image\n",
    "\n",
    "GCI_RedBand\n",
    "\n",
    "3\n",
    "\n",
    "Green band of RGBA image\n",
    "\n",
    "GCI_GreenBand\n",
    "\n",
    "4\n",
    "\n",
    "Blue band of RGBA image\n",
    "\n",
    "GCI_BlueBand\n",
    "\n",
    "5\n",
    "\n",
    "Alpha (0 = transparent; 255 = opaque)\n",
    "\n",
    "GCI_AlphaBand\n",
    "\n",
    "6\n",
    "\n",
    "Hue band of HLS image\n",
    "\n",
    "GCI_HueBand\n",
    "\n",
    "7\n",
    "\n",
    "Saturation band of HLS image\n",
    "\n",
    "GCI_SaturationBand\n",
    "\n",
    "8\n",
    "\n",
    "Lightness band of HLS image\n",
    "\n",
    "GCI_LightnessBand\n",
    "\n",
    "9\n",
    "\n",
    "Cyan band of CMYK image\n",
    "\n",
    "GCI_CyanBand\n",
    "\n",
    "10\n",
    "\n",
    "Magenta band of CMYK image\n",
    "\n",
    "GCI_MagentaBand\n",
    "\n",
    "11\n",
    "\n",
    "Yellow band of CMYK image\n",
    "\n",
    "GCI_YellowBand\n",
    "\n",
    "12\n",
    "\n",
    "Black band of CMLY image\n",
    "\n",
    "GCI_BlackBand\n",
    "\n",
    "13\n",
    "\n",
    "Y Luminance\n",
    "\n",
    "GCI_YCbCr_YBand\n",
    "\n",
    "14\n",
    "\n",
    "Cb Chroma\n",
    "\n",
    "GCI_YCbCr_CbBand\n",
    "\n",
    "15\n",
    "\n",
    "Cr Chroma\n",
    "\n",
    "GCI_YCbCr_CrBand\n",
    "\n",
    "16\n",
    "\n",
    "这里要注意，尽管在Python中GDAL的数据类型（表[tab:gdalconst]）与GDAL的color interpretation都是在gdalconst字典中， 但是在C语言中是在不同的枚举类型中定义的。"
   ]
  },
  {
   "cell_type": "markdown",
   "metadata": {},
   "source": [
    "## 2.5.3. 访问数据\n",
    "我们通过ReadRaster读出的数据值只是对应到这个表的一个索引而已。 我们需要通过读出这些数据，并在真实数据表中找出真实数据， 重新组织成一个RGB表才能用来绘制。如果不经过对应， 绘制出来的东西可能没有任何意义。\n",
    "\n",
    "使用自省函数help()："
   ]
  },
  {
   "cell_type": "code",
   "execution_count": 12,
   "metadata": {},
   "outputs": [
    {
     "name": "stdout",
     "output_type": "stream",
     "text": [
      "Help on method ReadAsArray in module osgeo.gdal:\n",
      "\n",
      "ReadAsArray(xoff=0, yoff=0, win_xsize=None, win_ysize=None, buf_xsize=None, buf_ysize=None, buf_type=None, buf_obj=None, resample_alg=0, callback=None, callback_data=None) method of osgeo.gdal.Band instance\n",
      "    Reading a chunk of a GDAL band into a numpy array. The optional (buf_xsize,buf_ysize,buf_type)\n",
      "    parameters should generally not be specified if buf_obj is specified. The array is returned\n",
      "\n"
     ]
    }
   ],
   "source": [
    "from osgeo import gdal\n",
    "dataset = gdal.Open(\"./gdata/lu75i1.tif\")\n",
    "band = dataset.GetRasterBand(1)\n",
    "band.DataType\n",
    "help(band.ReadAsArray)"
   ]
  },
  {
   "cell_type": "code",
   "execution_count": 13,
   "metadata": {},
   "outputs": [
    {
     "name": "stdout",
     "output_type": "stream",
     "text": [
      "Help on method ReadRaster in module osgeo.gdal:\n",
      "\n",
      "ReadRaster(xoff=0, yoff=0, xsize=None, ysize=None, buf_xsize=None, buf_ysize=None, buf_type=None, buf_pixel_space=None, buf_line_space=None, resample_alg=0, callback=None, callback_data=None, buf_obj=None) method of osgeo.gdal.Band instance\n",
      "\n"
     ]
    }
   ],
   "source": [
    "help(band.ReadRaster)"
   ]
  },
  {
   "cell_type": "markdown",
   "metadata": {},
   "source": [
    "可以看到这两个函数的原型：\n",
    "\n",
    "显然，band里的 ReadAsArray() 参数比 dataset 里面的要实用， 而ReadRaster则差不多。 但是ReadAsArray读出的是数组，可以用Numeric模块进行矩阵魔法。 ReadRaster读出的是二进制，虽然可以直接绘制， 但是对于一些绘图API来说， 对[[RRR…][GGG…][BBB…]]表的处理明显不如[[RGB][RGB]…]， 有的甚至不支持。 虽然可以用struct.unpack来拆封，可效率上就差很多(而且拆封出来还是数组)。 数组在矩阵魔法的控制之下则会显得十分方便快捷， 最后用 tostring 直接转化成为二进制绘制，速度也相当快。\n",
    "\n",
    "好了，快速开始已经使我们可以初步看清楚了GDAL中图像的组织。 下面用一句话总结：波段组成图像，波段指挥颜色。\n",
    "\n",
    "实际这个库主要是用来读取遥感数据的。 真正在图像处理方面还是不如PIL，两个其实是互用的。"
   ]
  },
  {
   "cell_type": "markdown",
   "metadata": {},
   "source": [
    "## 2.5.4 读取索引图像中数据的问题\n",
    "需要注意的是在gdal 使用ColorMap的时候， 对原始的ColorMap已经做过变动了。 比如geotiff的ColorMap的数据类型是 short， 默认的范围是在 0～65535， 但是在gdal读取出来以后，已经经过了范围压缩。 压缩范围是0～255。虽然都是short类型，但是值已经变化。\n",
    "\n",
    "参考快速开始那张颜色表，可以看到颜色表中的数据是经过 （原始数据/65535.0*255）调整过的。这里在使用的时候可能比较方便， 但是如果你是有读取过geotiff原始数据背景的，则需要小心。 可能会有习惯性思维的陷阱。因为两者的类型都是short， 但是实际的数值不一样。"
   ]
  },
  {
   "cell_type": "code",
   "execution_count": null,
   "metadata": {},
   "outputs": [],
   "source": []
  }
 ],
 "metadata": {
  "kernelspec": {
   "display_name": "Python 3 (ipykernel)",
   "language": "python",
   "name": "python3"
  },
  "language_info": {
   "codemirror_mode": {
    "name": "ipython",
    "version": 3
   },
   "file_extension": ".py",
   "mimetype": "text/x-python",
   "name": "python",
   "nbconvert_exporter": "python",
   "pygments_lexer": "ipython3",
   "version": "3.10.11"
  }
 },
 "nbformat": 4,
 "nbformat_minor": 1
}
