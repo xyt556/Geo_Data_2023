{
 "cells": [
  {
   "cell_type": "markdown",
   "metadata": {},
   "source": [
    "# 2.4 访问数据集的数据\n",
    "通过上一节介绍的方法，可以访问遥感影像的描述性信息，可以概括地知道影像的获取时间、处理时间、空间分辨率、影像大小等一些信息。 但是为了对遥感影像进行处理，需要进一步访问遥感影像中的数据，即影像中像元的灰度值。\n",
    "\n",
    "GDAL提供了下面两个函数来访问影像的数值。\n",
    "- ReadRaster() 读取图像数据(以二进制的形式)\n",
    "- ReadAsArray() 读取图像数据(以数组的形式)"
   ]
  },
  {
   "cell_type": "code",
   "execution_count": 7,
   "metadata": {
    "ExecuteTime": {
     "end_time": "2023-04-23T17:36:12.326557Z",
     "start_time": "2023-04-23T17:36:11.643619Z"
    }
   },
   "outputs": [],
   "source": [
    "from osgeo import gdal\n",
    "dataset = gdal.Open(\"./gdata/lu75c.tif\")"
   ]
  },
  {
   "cell_type": "code",
   "execution_count": 6,
   "metadata": {},
   "outputs": [
    {
     "name": "stdout",
     "output_type": "stream",
     "text": [
      "Help on method ReadRaster in module osgeo.gdal:\n",
      "\n",
      "ReadRaster(xoff=0, yoff=0, xsize=None, ysize=None, buf_xsize=None, buf_ysize=None, buf_type=None, band_list=None, buf_pixel_space=None, buf_line_space=None, buf_band_space=None, resample_alg=0, callback=None, callback_data=None, buf_obj=None) method of osgeo.gdal.Dataset instance\n",
      "\n"
     ]
    }
   ],
   "source": [
    "help(dataset.ReadRaster)"
   ]
  },
  {
   "cell_type": "code",
   "execution_count": 5,
   "metadata": {},
   "outputs": [
    {
     "name": "stdout",
     "output_type": "stream",
     "text": [
      "Help on method ReadAsArray in module osgeo.gdal:\n",
      "\n",
      "ReadAsArray(xoff=0, yoff=0, xsize=None, ysize=None, buf_obj=None, buf_xsize=None, buf_ysize=None, buf_type=None, resample_alg=0, callback=None, callback_data=None, interleave='band', band_list=None) method of osgeo.gdal.Dataset instance\n",
      "    Reading a chunk of a GDAL band into a numpy array. The optional (buf_xsize,buf_ysize,buf_type)\n",
      "    parameters should generally not be specified if buf_obj is specified. The array is returned\n",
      "\n"
     ]
    }
   ],
   "source": [
    "help(dataset.ReadAsArray)"
   ]
  },
  {
   "cell_type": "markdown",
   "metadata": {},
   "source": [
    "这是两个非常重要的函数，它们可以直接读取图像的数据， 从而对栅格数据进行分析。可以看到两个函数的帮助中有许多的参数。 解释一下：\n",
    "\n",
    "- xoff,yoff ：指定想要读取的部分原点位置在整张图像中距离全图原点的位置(以像元为单位）。\n",
    "- xsize,ysize ： 指定要读取部分图像的矩形的长和宽（以像元为单位）。\n",
    "- buf_xsize，buf_ysize ：可以在读取出一部分图像后进行缩放。那么就用这两个参数来定义缩放后图像最终的宽和高，gdal将帮你缩放到这个大小。\n",
    "- buf_type ：可以对读出的数据的类型进行转换（比如原图数据类型是short，你要把它们缩小成byte）。\n",
    "- band_list ：适应多波段的情况。可以指定要读取的波段。"
   ]
  },
  {
   "cell_type": "markdown",
   "metadata": {},
   "source": [
    "这里简单看一下如何获取GeoTIFF文件中的数据。"
   ]
  },
  {
   "cell_type": "code",
   "execution_count": 10,
   "metadata": {},
   "outputs": [
    {
     "data": {
      "text/plain": [
       "array([[12, 12, 12],\n",
       "       [12, 12, 12],\n",
       "       [12, 12, 12]], dtype=int16)"
      ]
     },
     "execution_count": 10,
     "metadata": {},
     "output_type": "execute_result"
    }
   ],
   "source": [
    "import array\n",
    "from numpy import *\n",
    "dataset.ReadAsArray(2500,2500,3,3)"
   ]
  },
  {
   "cell_type": "code",
   "execution_count": 11,
   "metadata": {},
   "outputs": [
    {
     "data": {
      "text/plain": [
       "bytearray(b'\\x0c\\x00\\x0c\\x00\\x0c\\x00\\x0c\\x00\\x0c\\x00\\x0c\\x00\\x0c\\x00\\x0c\\x00\\x0c\\x00')"
      ]
     },
     "execution_count": 11,
     "metadata": {},
     "output_type": "execute_result"
    }
   ],
   "source": [
    "dataset.ReadRaster(2500,2500,3,3)"
   ]
  },
  {
   "cell_type": "markdown",
   "metadata": {},
   "source": [
    "我们就把图像左上角位于(3340, 3780)，宽高都为10个像元的数据读取出来了。 这两个函数返回的结果不一样，其中ReadAsArray()读出的是numpy的数组，类型为int16； 而ReadData()读出的是二进制型，具体的解释见后面。"
   ]
  },
  {
   "cell_type": "markdown",
   "metadata": {},
   "source": [
    "## 2.4.1 读取波段中的数据"
   ]
  },
  {
   "cell_type": "markdown",
   "metadata": {},
   "source": [
    "### ReadRaster()的函数细节\n",
    "下面是我的一个例子：使用了 ReadAsArray() ，返回的是numpy模块定义的Array， 之所以用它的是因为它排列很工整。 (这里的数据是用GRASS从spearfish示例数据转出的aspect数据集)"
   ]
  },
  {
   "cell_type": "code",
   "execution_count": 12,
   "metadata": {},
   "outputs": [
    {
     "data": {
      "text/plain": [
       "array([[236, 236, 237, 237, 237, 237, 237, 237, 227, 227],\n",
       "       [236, 236, 237, 237, 237, 237, 237, 237, 227, 227],\n",
       "       [235, 235, 232, 232, 233, 233, 234, 234, 225, 225],\n",
       "       [235, 235, 232, 232, 233, 233, 234, 234, 225, 225],\n",
       "       [242, 242, 235, 235, 232, 232, 233, 233, 224, 224],\n",
       "       [242, 242, 235, 235, 232, 232, 233, 233, 224, 224],\n",
       "       [254, 254, 244, 244, 238, 238, 237, 237, 229, 229],\n",
       "       [254, 254, 244, 244, 238, 238, 237, 237, 229, 229],\n",
       "       [246, 246, 246, 246, 248, 248, 250, 250, 235, 235],\n",
       "       [246, 246, 246, 246, 248, 248, 250, 250, 235, 235]], dtype=uint8)"
      ]
     },
     "execution_count": 12,
     "metadata": {},
     "output_type": "execute_result"
    }
   ],
   "source": [
    "from osgeo import gdal\n",
    "# from osgeo.gdalconst import *\n",
    "dataset = gdal.Open(\"./gdata/geotiff_file.tif\")\n",
    "band = dataset.GetRasterBand(1)\n",
    "band.ReadAsArray(100,100,5,5,10,10)"
   ]
  },
  {
   "cell_type": "markdown",
   "metadata": {},
   "source": [
    "### ReadAsArray的原型"
   ]
  },
  {
   "cell_type": "code",
   "execution_count": 13,
   "metadata": {},
   "outputs": [
    {
     "name": "stdout",
     "output_type": "stream",
     "text": [
      "Help on method ReadAsArray in module osgeo.gdal:\n",
      "\n",
      "ReadAsArray(xoff=0, yoff=0, win_xsize=None, win_ysize=None, buf_xsize=None, buf_ysize=None, buf_type=None, buf_obj=None, resample_alg=0, callback=None, callback_data=None) method of osgeo.gdal.Band instance\n",
      "    Reading a chunk of a GDAL band into a numpy array. The optional (buf_xsize,buf_ysize,buf_type)\n",
      "    parameters should generally not be specified if buf_obj is specified. The array is returned\n",
      "\n"
     ]
    }
   ],
   "source": [
    "help(band.ReadAsArray)"
   ]
  },
  {
   "cell_type": "markdown",
   "metadata": {},
   "source": [
    "分析help(band.ReadAsArray)函数的几个参数的意义。 前两个100是取值窗口的左上角在实际数据中所处象元的(x, y)位置。 后两个是取值窗口覆盖的区域大小， 再后面是取值窗口取出数组进行缩放后数组的大小。 这里需要注意的是这里的buffer大小是根据参数自动分配的，可以不指定， 如果不指定，则和第3，4个参数一致。经过5，6两个参数的设置，可以进行缩放。 假如取值窗口大小是20 × 20，取出后数组就可以人工设置大小。 让它成为10 × 10的数组，或者是40 × 40的数组。 如果设置成20 × 40的数组则取出的数组对于真实图像来说有了变形。"
   ]
  },
  {
   "cell_type": "code",
   "execution_count": 14,
   "metadata": {},
   "outputs": [
    {
     "data": {
      "text/plain": [
       "array([[236, 237, 237, 237, 227, 217, 208, 209, 212, 209],\n",
       "       [235, 232, 233, 234, 225, 211, 201, 207, 217, 212],\n",
       "       [242, 235, 232, 233, 224, 210, 203, 211, 223, 220],\n",
       "       [254, 244, 238, 237, 229, 217, 211, 219, 227, 221],\n",
       "       [246, 246, 248, 250, 235, 227, 225, 232, 228, 216],\n",
       "       [243, 241, 242, 242, 246, 243, 243, 241, 232, 213],\n",
       "       [240, 238, 236, 234, 246, 246, 243, 237, 226, 214],\n",
       "       [243, 243, 240, 236, 242, 240, 235, 225, 217, 217],\n",
       "       [247, 248, 245, 241, 243, 241, 236, 228, 226, 225],\n",
       "       [245, 248, 247, 244, 244, 240, 242, 241, 237, 230]], dtype=uint8)"
      ]
     },
     "execution_count": 14,
     "metadata": {},
     "output_type": "execute_result"
    }
   ],
   "source": [
    "band.ReadAsArray(100,100,10,10)"
   ]
  },
  {
   "cell_type": "markdown",
   "metadata": {},
   "source": [
    "通过几个例子可以看到，读取的4个size参数的作用就是把硬盘上指定区域 （前四个参数定义）的数据按比例缩放到用户指定区域（后两个定义）内， 必要的时候进行缩放。 这里需要注意的是缩的情况（缩的时候是取几个周围点的平均值） 如果是调色板数据就可能引发问题。"
   ]
  },
  {
   "cell_type": "markdown",
   "metadata": {},
   "source": [
    "### 栅格数据范围的处理\n",
    "现在还有一个问题。就是取值窗口超过实际数据最大的范围怎么办？"
   ]
  },
  {
   "cell_type": "code",
   "execution_count": 15,
   "metadata": {},
   "outputs": [
    {
     "data": {
      "text/plain": [
       "1500"
      ]
     },
     "execution_count": 15,
     "metadata": {},
     "output_type": "execute_result"
    }
   ],
   "source": [
    "band.XSize"
   ]
  },
  {
   "cell_type": "code",
   "execution_count": 16,
   "metadata": {},
   "outputs": [
    {
     "data": {
      "text/plain": [
       "900"
      ]
     },
     "execution_count": 16,
     "metadata": {},
     "output_type": "execute_result"
    }
   ],
   "source": [
    "band.YSize"
   ]
  },
  {
   "cell_type": "code",
   "execution_count": 20,
   "metadata": {},
   "outputs": [
    {
     "data": {
      "text/plain": [
       "array([[246, 242, 237, 233, 234],\n",
       "       [247, 242, 237, 234, 234],\n",
       "       [244, 244, 240, 239, 242],\n",
       "       [241, 249, 245, 248, 254],\n",
       "       [244, 251, 252, 251, 247]], dtype=uint8)"
      ]
     },
     "execution_count": 20,
     "metadata": {},
     "output_type": "execute_result"
    }
   ],
   "source": [
    "band.ReadAsArray(95,100,5,5)"
   ]
  },
  {
   "cell_type": "markdown",
   "metadata": {},
   "source": [
    "可以看到，出错了。 获取数据的时候不能越界， 调用的时候要判断越界没。 还好用Python的numpy模块可以很方便地扩展矩阵。"
   ]
  },
  {
   "cell_type": "markdown",
   "metadata": {},
   "source": [
    "## 2.4.2 读取栅格数据方式与效率\n",
    "对于GeoTiff来说， 从横向读取和纵向读取的效率相差很大。 可以写一个Python脚本文件来验证一下："
   ]
  },
  {
   "cell_type": "code",
   "execution_count": 22,
   "metadata": {},
   "outputs": [
    {
     "name": "stdout",
     "output_type": "stream",
     "text": [
      "0.020967483520507812\n",
      "0.026066303253173828\n"
     ]
    }
   ],
   "source": [
    ">>> from osgeo import gdal\n",
    ">>> import time\n",
    ">>> dataset = gdal.Open(\"./gdata/lu75c.tif\")\n",
    ">>> band = dataset.GetRasterBand(1)\n",
    ">>> width, height = dataset.RasterXSize, dataset.RasterYSize\n",
    ">>> bw, bh = 128, 128\n",
    ">>> bxsize = width/bw\n",
    ">>> bysize = height/bh\n",
    ">>> band.ReadAsArray(0,0,width,height)\n",
    ">>> start = time.time()\n",
    ">>> band.ReadAsArray(0,0,width,height)\n",
    ">>> print (time.time()-start)\n",
    ">>> start2 = time.time()\n",
    ">>> for i in range(int(bysize)):\n",
    ">>>     for j in range(int(bxsize)):\n",
    ">>>         band.ReadAsArray(bw*j,bh*i,bw,bh)\n",
    ">>> print (time.time()-start2)"
   ]
  },
  {
   "cell_type": "markdown",
   "metadata": {},
   "source": [
    "最后一段的循环的两个for位置调换一下。\n",
    "\n",
    "运行一下得到结果：\n",
    "\n",
    "运行python ch03_test_read_tif_time.py，得到以下结果："
   ]
  },
  {
   "cell_type": "code",
   "execution_count": 23,
   "metadata": {},
   "outputs": [
    {
     "name": "stdout",
     "output_type": "stream",
     "text": [
      "0.01999521255493164\n",
      "0.023993730545043945\n"
     ]
    }
   ],
   "source": [
    ">>> from osgeo import gdal\n",
    ">>> import time\n",
    ">>> dataset = gdal.Open(\"./gdata/lu75c.tif\")\n",
    ">>> band = dataset.GetRasterBand(1)\n",
    ">>> width, height = dataset.RasterXSize, dataset.RasterYSize\n",
    ">>> bw, bh = 128, 128\n",
    ">>> bxsize = width/bw\n",
    ">>> bysize = height/bh\n",
    ">>> band.ReadAsArray(0,0,width,height)\n",
    ">>> start = time.time()\n",
    ">>> band.ReadAsArray(0,0,width,height)\n",
    ">>> print (time.time()-start)\n",
    ">>> start2 = time.time()\n",
    ">>> for i in range(int(bxsize)):\n",
    ">>>     for j in range(int(bysize)):\n",
    ">>>         band.ReadAsArray(bw*j,bh*i,bw,bh)\n",
    ">>> print (time.time()-start2)"
   ]
  },
  {
   "cell_type": "markdown",
   "metadata": {},
   "source": [
    "## 2.4.3 地图代数"
   ]
  },
  {
   "cell_type": "markdown",
   "metadata": {},
   "source": [
    "以计算NDVI为例：\n",
    "\n",
    "NDVI = (NIR− RED)/(NIR+RED)\n",
    "其中 NIR 为波段3，RED 为波段2\n",
    "\n",
    "编程要点如下：\n",
    "\n",
    "将波段3读入数组 data3 ，将波段2读入数组 data2 ；\n",
    "\n",
    "使用上面的计算公式；\n",
    "\n",
    "当 data3 和 data2 均为 0 时（例如用 0 表示 NODATA ）， 会出现被0除的错误，导致程序崩溃。需要用 mask 配合 choose 将 0 值去掉。\n",
    "\n",
    "代码如下："
   ]
  },
  {
   "cell_type": "code",
   "execution_count": 25,
   "metadata": {},
   "outputs": [
    {
     "name": "stderr",
     "output_type": "stream",
     "text": [
      "C:\\Users\\xyt55\\AppData\\Local\\Temp\\ipykernel_34004\\3934813302.py:11: RuntimeWarning: invalid value encountered in divide\n",
      "  ndvi = numpy.choose(mask, (-99, (data3 - data2) / (data3 + data2)))\n"
     ]
    }
   ],
   "source": [
    ">>> from osgeo import gdal\n",
    ">>> import numpy\n",
    ">>> dataset = gdal.Open(\"./gdata/geotiff_file.tif\")\n",
    ">>> band2 = dataset.GetRasterBand(2)\n",
    ">>> band3 = dataset.GetRasterBand(3)\n",
    ">>> cols = 100\n",
    ">>> rows = 100\n",
    ">>> data2 = band2.ReadAsArray(0, 0, cols,rows).astype(numpy.float16)\n",
    ">>> data3 = band3.ReadAsArray(0, 0, cols,rows).astype(numpy.float16)\n",
    ">>> mask = numpy.greater(data3 + data2, 0)\n",
    ">>> ndvi = numpy.choose(mask, (-99, (data3 - data2) / (data3 + data2)))"
   ]
  },
  {
   "cell_type": "code",
   "execution_count": 26,
   "metadata": {},
   "outputs": [
    {
     "data": {
      "text/plain": [
       "array([[0.2766, 0.318 , 0.4285, ..., 0.3057, 0.275 , 0.6   ],\n",
       "       [0.1951, 0.2208, 0.3135, ..., 0.2683, 0.3538, 1.    ],\n",
       "       [0.2142, 0.2195, 0.2896, ..., 0.4182, 0.758 , 1.    ],\n",
       "       ...,\n",
       "       [0.6313, 0.6113, 0.6553, ..., 0.3333, 0.359 , 0.36  ],\n",
       "       [0.4119, 0.4119, 0.422 , ..., 0.3784, 0.3784, 0.3418],\n",
       "       [0.3684, 0.322 , 0.309 , ..., 0.4084, 0.4   , 0.3684]],\n",
       "      dtype=float16)"
      ]
     },
     "execution_count": 26,
     "metadata": {},
     "output_type": "execute_result"
    }
   ],
   "source": [
    "ndvi"
   ]
  },
  {
   "cell_type": "markdown",
   "metadata": {},
   "source": [
    "## 2.4.4 波段数据类型\n",
    "DataType是指图像中实际数值的数据类型。具体数据类型定义在gdalconst模块里。\n",
    "\n",
    "使用的时候用from osgeo import gdalconst引入。\n",
    "\n",
    "返回结果如下："
   ]
  },
  {
   "cell_type": "code",
   "execution_count": 27,
   "metadata": {},
   "outputs": [
    {
     "data": {
      "text/plain": [
       "['CE_Debug',\n",
       " 'CE_Failure',\n",
       " 'CE_Fatal',\n",
       " 'CE_None',\n",
       " 'CE_Warning',\n",
       " 'CPLES_BackslashQuotable',\n",
       " '... ...',\n",
       " '_swig_repr',\n",
       " '_swig_setattr_nondynamic_class_variable',\n",
       " '_swig_setattr_nondynamic_instance_variable']"
      ]
     },
     "execution_count": 27,
     "metadata": {},
     "output_type": "execute_result"
    }
   ],
   "source": [
    ">>> from osgeo import gdalconst\n",
    ">>> dir(gdalconst)[:6] + ['... ...'] + dir(gdalconst)[-3:]"
   ]
  },
  {
   "cell_type": "markdown",
   "metadata": {},
   "source": [
    "那些GDT开头的就是数值数据类型。\n",
    "\n",
    "想要查看图像中某一波段的数据类型，只需要打印这一波段的DataType属性即可。"
   ]
  },
  {
   "cell_type": "code",
   "execution_count": 29,
   "metadata": {},
   "outputs": [
    {
     "data": {
      "text/plain": [
       "1"
      ]
     },
     "execution_count": 29,
     "metadata": {},
     "output_type": "execute_result"
    }
   ],
   "source": [
    ">>> from osgeo import gdal\n",
    ">>> dataset = gdal.Open(\"./gdata/geotiff_file.tif\")\n",
    ">>> band = dataset.GetRasterBand(1)\n",
    ">>> band.DataType"
   ]
  },
  {
   "cell_type": "markdown",
   "metadata": {},
   "source": [
    "返回结果为整型。原来1表示的是 gdalconst.GDT_Byte 。注意这里的类型是与numpy中的类型对应的。\n",
    "\n",
    "下面我们来看一个gdalconst与整型的对应值。\n",
    "\n",
    "- 未知或未指定类型 gdalconst.GDT_Unknown 0\n",
    "\n",
    "- 8位无符整型 gdalconst.GDT_Byte 1\n",
    "\n",
    "- 16位无符整型 gdalconst.GDT_UInt16 2\n",
    "\n",
    "- 16位整型 gdalconst.GDT_Int16 3\n",
    "\n",
    "- 32位无符整型 gdalconst.GDT_UInt32 4\n",
    "\n",
    "- 32位整型值 gdalconst.GDT_Int32 5\n",
    "\n",
    "- 32位浮点型 gdalconst.GDT_Float32 6\n",
    "\n",
    "- 64位浮点型 gdalconst.GDT_Float64 7\n",
    "\n",
    "- 16位复数整型 gdalconst.GDT_CInt16 8\n",
    "\n",
    "- 32位复数整型 gdalconst.GDT_CInt32 9\n",
    "\n",
    "- 32位复数浮点型 gdalconst.GDT_CFloat32 10\n",
    "\n",
    "- 64位复数浮点型 gdalconst.GDT_CFloat64 11"
   ]
  }
 ],
 "metadata": {
  "kernelspec": {
   "display_name": "Python 3 (ipykernel)",
   "language": "python",
   "name": "python3"
  },
  "language_info": {
   "codemirror_mode": {
    "name": "ipython",
    "version": 3
   },
   "file_extension": ".py",
   "mimetype": "text/x-python",
   "name": "python",
   "nbconvert_exporter": "python",
   "pygments_lexer": "ipython3",
   "version": "3.10.11"
  }
 },
 "nbformat": 4,
 "nbformat_minor": 1
}
