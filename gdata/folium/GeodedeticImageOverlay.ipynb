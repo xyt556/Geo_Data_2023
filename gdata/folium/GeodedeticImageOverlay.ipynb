{
 "cells": [
  {
   "cell_type": "code",
   "execution_count": 1,
   "metadata": {
    "collapsed": false
   },
   "outputs": [
    {
     "name": "stdout",
     "output_type": "stream",
     "text": [
      "0.3.0.dev\n"
     ]
    }
   ],
   "source": [
    "import os\n",
    "import folium\n",
    "\n",
    "print(folium.__version__)"
   ]
  },
  {
   "cell_type": "code",
   "execution_count": 2,
   "metadata": {
    "collapsed": false
   },
   "outputs": [],
   "source": [
    "import numpy as np\n",
    "\n",
    "\n",
    "def sample_data(shape=(73, 145)):\n",
    "    nlats, nlons = shape\n",
    "    lats = np.linspace(-np.pi / 2, np.pi / 2, nlats)\n",
    "    lons = np.linspace(0, 2 * np.pi, nlons)\n",
    "    lons, lats = np.meshgrid(lons, lats)\n",
    "    wave = 0.75 * (np.sin(2 * lats) ** 8) * np.cos(4 * lons)\n",
    "    mean = 0.5 * np.cos(2 * lats) * ((np.sin(2 * lats)) ** 2 + 2)\n",
    "\n",
    "    lats = np.rad2deg(lats)\n",
    "    lons = np.rad2deg(lons)\n",
    "    data = wave + mean\n",
    "\n",
    "    return lons, lats, data\n",
    "\n",
    "\n",
    "lon, lat, data = sample_data(shape=(73, 145))\n",
    "lon -= 180"
   ]
  },
  {
   "cell_type": "code",
   "execution_count": 3,
   "metadata": {
    "collapsed": false
   },
   "outputs": [],
   "source": [
    "%matplotlib inline\n",
    "\n",
    "import matplotlib\n",
    "\n",
    "cm = matplotlib.cm.get_cmap('cubehelix')\n",
    "\n",
    "normed_data = (data - data.min()) / (data.max() - data.min())\n",
    "colored_data = cm(normed_data)"
   ]
  },
  {
   "cell_type": "markdown",
   "metadata": {},
   "source": [
    "# Bad"
   ]
  },
  {
   "cell_type": "code",
   "execution_count": 4,
   "metadata": {
    "collapsed": false
   },
   "outputs": [
    {
     "data": {
      "text/html": [
       "<div style=\"width:100%;\"><div style=\"position:relative;width:100%;height:0;padding-bottom:60%;\"><iframe src=\"data:text/html;base64,PCFET0NUWVBFIGh0bWw+CjxoZWFkPiAgICAKICAgIDxtZXRhIGh0dHAtZXF1aXY9ImNvbnRlbnQtdHlwZSIgY29udGVudD0idGV4dC9odG1sOyBjaGFyc2V0PVVURi04IiAvPgogICAgPHNjcmlwdD5MX1BSRUZFUl9DQU5WQVMgPSBmYWxzZTsgTF9OT19UT1VDSCA9IGZhbHNlOyBMX0RJU0FCTEVfM0QgPSBmYWxzZTs8L3NjcmlwdD4KICAgIDxzY3JpcHQgc3JjPSJodHRwczovL3VucGtnLmNvbS9sZWFmbGV0QDEuMC4xL2Rpc3QvbGVhZmxldC5qcyI+PC9zY3JpcHQ+CiAgICA8c2NyaXB0IHNyYz0iaHR0cHM6Ly9hamF4Lmdvb2dsZWFwaXMuY29tL2FqYXgvbGlicy9qcXVlcnkvMS4xMS4xL2pxdWVyeS5taW4uanMiPjwvc2NyaXB0PgogICAgPHNjcmlwdCBzcmM9Imh0dHBzOi8vbWF4Y2RuLmJvb3RzdHJhcGNkbi5jb20vYm9vdHN0cmFwLzMuMi4wL2pzL2Jvb3RzdHJhcC5taW4uanMiPjwvc2NyaXB0PgogICAgPHNjcmlwdCBzcmM9Imh0dHBzOi8vY2RuanMuY2xvdWRmbGFyZS5jb20vYWpheC9saWJzL0xlYWZsZXQuYXdlc29tZS1tYXJrZXJzLzIuMC4yL2xlYWZsZXQuYXdlc29tZS1tYXJrZXJzLmpzIj48L3NjcmlwdD4KICAgIDxzY3JpcHQgc3JjPSJodHRwczovL2NkbmpzLmNsb3VkZmxhcmUuY29tL2FqYXgvbGlicy9sZWFmbGV0Lm1hcmtlcmNsdXN0ZXIvMS4wLjAvbGVhZmxldC5tYXJrZXJjbHVzdGVyLXNyYy5qcyI+PC9zY3JpcHQ+CiAgICA8c2NyaXB0IHNyYz0iaHR0cHM6Ly9jZG5qcy5jbG91ZGZsYXJlLmNvbS9hamF4L2xpYnMvbGVhZmxldC5tYXJrZXJjbHVzdGVyLzEuMC4wL2xlYWZsZXQubWFya2VyY2x1c3Rlci5qcyI+PC9zY3JpcHQ+CiAgICA8bGluayByZWw9InN0eWxlc2hlZXQiIGhyZWY9Imh0dHBzOi8vdW5wa2cuY29tL2xlYWZsZXRAMS4wLjEvZGlzdC9sZWFmbGV0LmNzcyIgLz4KICAgIDxsaW5rIHJlbD0ic3R5bGVzaGVldCIgaHJlZj0iaHR0cHM6Ly9tYXhjZG4uYm9vdHN0cmFwY2RuLmNvbS9ib290c3RyYXAvMy4yLjAvY3NzL2Jvb3RzdHJhcC5taW4uY3NzIiAvPgogICAgPGxpbmsgcmVsPSJzdHlsZXNoZWV0IiBocmVmPSJodHRwczovL21heGNkbi5ib290c3RyYXBjZG4uY29tL2Jvb3RzdHJhcC8zLjIuMC9jc3MvYm9vdHN0cmFwLXRoZW1lLm1pbi5jc3MiIC8+CiAgICA8bGluayByZWw9InN0eWxlc2hlZXQiIGhyZWY9Imh0dHBzOi8vbWF4Y2RuLmJvb3RzdHJhcGNkbi5jb20vZm9udC1hd2Vzb21lLzQuNi4zL2Nzcy9mb250LWF3ZXNvbWUubWluLmNzcyIgLz4KICAgIDxsaW5rIHJlbD0ic3R5bGVzaGVldCIgaHJlZj0iaHR0cHM6Ly9jZG5qcy5jbG91ZGZsYXJlLmNvbS9hamF4L2xpYnMvTGVhZmxldC5hd2Vzb21lLW1hcmtlcnMvMi4wLjIvbGVhZmxldC5hd2Vzb21lLW1hcmtlcnMuY3NzIiAvPgogICAgPGxpbmsgcmVsPSJzdHlsZXNoZWV0IiBocmVmPSJodHRwczovL2NkbmpzLmNsb3VkZmxhcmUuY29tL2FqYXgvbGlicy9sZWFmbGV0Lm1hcmtlcmNsdXN0ZXIvMS4wLjAvTWFya2VyQ2x1c3Rlci5EZWZhdWx0LmNzcyIgLz4KICAgIDxsaW5rIHJlbD0ic3R5bGVzaGVldCIgaHJlZj0iaHR0cHM6Ly9jZG5qcy5jbG91ZGZsYXJlLmNvbS9hamF4L2xpYnMvbGVhZmxldC5tYXJrZXJjbHVzdGVyLzEuMC4wL01hcmtlckNsdXN0ZXIuY3NzIiAvPgogICAgPGxpbmsgcmVsPSJzdHlsZXNoZWV0IiBocmVmPSJodHRwczovL3Jhd2dpdC5jb20vcHl0aG9uLXZpc3VhbGl6YXRpb24vZm9saXVtL21hc3Rlci9mb2xpdW0vdGVtcGxhdGVzL2xlYWZsZXQuYXdlc29tZS5yb3RhdGUuY3NzIiAvPgogICAgPHN0eWxlPmh0bWwsIGJvZHkge3dpZHRoOiAxMDAlO2hlaWdodDogMTAwJTttYXJnaW46IDA7cGFkZGluZzogMDt9PC9zdHlsZT4KICAgIDxzdHlsZT4jbWFwIHtwb3NpdGlvbjphYnNvbHV0ZTt0b3A6MDtib3R0b206MDtyaWdodDowO2xlZnQ6MDt9PC9zdHlsZT4KICAgIAogICAgICAgICAgICA8c3R5bGU+ICNtYXBfZGNlYmU0NjYwNDcwNDExMmI2NzM3ODRjMGU5NDRiNDEgewogICAgICAgICAgICAgICAgcG9zaXRpb24gOiByZWxhdGl2ZTsKICAgICAgICAgICAgICAgIHdpZHRoIDogMTAwLjAlOwogICAgICAgICAgICAgICAgaGVpZ2h0OiAxMDAuMCU7CiAgICAgICAgICAgICAgICBsZWZ0OiAwLjAlOwogICAgICAgICAgICAgICAgdG9wOiAwLjAlOwogICAgICAgICAgICAgICAgfQogICAgICAgICAgICA8L3N0eWxlPgogICAgICAgIAo8L2hlYWQ+Cjxib2R5PiAgICAKICAgIAogICAgICAgICAgICA8ZGl2IGNsYXNzPSJmb2xpdW0tbWFwIiBpZD0ibWFwX2RjZWJlNDY2MDQ3MDQxMTJiNjczNzg0YzBlOTQ0YjQxIiA+PC9kaXY+CiAgICAgICAgCjwvYm9keT4KPHNjcmlwdD4gICAgCiAgICAKCiAgICAgICAgICAgIAogICAgICAgICAgICAgICAgdmFyIHNvdXRoV2VzdCA9IEwubGF0TG5nKC05MCwgLTE4MCk7CiAgICAgICAgICAgICAgICB2YXIgbm9ydGhFYXN0ID0gTC5sYXRMbmcoOTAsIDE4MCk7CiAgICAgICAgICAgICAgICB2YXIgYm91bmRzID0gTC5sYXRMbmdCb3VuZHMoc291dGhXZXN0LCBub3J0aEVhc3QpOwogICAgICAgICAgICAKCiAgICAgICAgICAgIHZhciBtYXBfZGNlYmU0NjYwNDcwNDExMmI2NzM3ODRjMGU5NDRiNDEgPSBMLm1hcCgKICAgICAgICAgICAgICAgICAgICAgICAgICAgICAgICAgICdtYXBfZGNlYmU0NjYwNDcwNDExMmI2NzM3ODRjMGU5NDRiNDEnLAogICAgICAgICAgICAgICAgICAgICAgICAgICAgICAgICAge2NlbnRlcjogWzAuMCwtOC41OTIyOTc2MDc2OGUtMTddLAogICAgICAgICAgICAgICAgICAgICAgICAgICAgICAgICAgem9vbTogMSwKICAgICAgICAgICAgICAgICAgICAgICAgICAgICAgICAgIG1heEJvdW5kczogYm91bmRzLAogICAgICAgICAgICAgICAgICAgICAgICAgICAgICAgICAgbGF5ZXJzOiBbXSwKICAgICAgICAgICAgICAgICAgICAgICAgICAgICAgICAgIHdvcmxkQ29weUp1bXA6IGZhbHNlLAogICAgICAgICAgICAgICAgICAgICAgICAgICAgICAgICAgY3JzOiBMLkNSUy5FUFNHMzg1NwogICAgICAgICAgICAgICAgICAgICAgICAgICAgICAgICB9KTsKICAgICAgICAgICAgCiAgICAgICAgCiAgICAKICAgICAgICAgICAgdmFyIHRpbGVfbGF5ZXJfM2EyYjJjN2IxYjdiNDVmY2E3NGFmYTY2YTQ0YmI0YTYgPSBMLnRpbGVMYXllcigKICAgICAgICAgICAgICAgICdodHRwczovL3tzfS50aWxlLm9wZW5zdHJlZXRtYXAub3JnL3t6fS97eH0ve3l9LnBuZycsCiAgICAgICAgICAgICAgICB7CiAgICAgICAgICAgICAgICAgICAgbWF4Wm9vbTogMTgsCiAgICAgICAgICAgICAgICAgICAgbWluWm9vbTogMSwKICAgICAgICAgICAgICAgICAgICBjb250aW51b3VzV29ybGQ6IGZhbHNlLAogICAgICAgICAgICAgICAgICAgIG5vV3JhcDogZmFsc2UsCiAgICAgICAgICAgICAgICAgICAgYXR0cmlidXRpb246ICdEYXRhIGJ5IDxhIGhyZWY9Imh0dHA6Ly9vcGVuc3RyZWV0bWFwLm9yZyI+T3BlblN0cmVldE1hcDwvYT4sIHVuZGVyIDxhIGhyZWY9Imh0dHA6Ly93d3cub3BlbnN0cmVldG1hcC5vcmcvY29weXJpZ2h0Ij5PRGJMPC9hPi4nLAogICAgICAgICAgICAgICAgICAgIGRldGVjdFJldGluYTogZmFsc2UKICAgICAgICAgICAgICAgICAgICB9CiAgICAgICAgICAgICAgICApLmFkZFRvKG1hcF9kY2ViZTQ2NjA0NzA0MTEyYjY3Mzc4NGMwZTk0NGI0MSk7CgogICAgICAgIAogICAgCiAgICAgICAgICAgICAgICB2YXIgaW1hZ2Vfb3ZlcmxheV83ODkxMmU3OTEwNzE0ZGVmYWYwYjZmMmE5NzZjMDc1NSA9IEwuaW1hZ2VPdmVybGF5KAogICAgICAgICAgICAgICAgICAgICdkYXRhOmltYWdlL3BuZztiYXNlNjQsaVZCT1J3MEtHZ29BQUFBTlNVaEVVZ0FBQUpFQUFBQkpDQVlBQUFBOXRjUmhBQUFIeDBsRVFWUjQydTJkZTRnVlZSekh6ejdhMW54Ujd2TmFtWm1VUkdwcTZhcFpiZzl0VTBFTVFZd2VoTkVERktWaTcwMkx5QkFpS0lvaWlJd2lDREVpcEFpS0tOZlhxdW5XdXRHN3RETEx4KzUxVjkxODlldDhmbmRuR2FlOS9lR29OZlFiK0RITm1mUDdmai8zOXZPY00zZnZuWEhPT2JHd2lCbjJKbGhZRVZsWUVWbFlFVmxZRkxnQ3NiQ0lFNjY0b0ZoT05vb0tpdkpHSEYzalNSYVBPNmU0dHhDOWlucmxqZExDMGg2anBMQWtiK1RMK1NlZmdNVjRrc1hqemoyN1hNTFJ2MlJBZC9Rck9WZWo3MW45TmZvVTk5VUl2NWpvQzRxZUMzSUNqVUF6N0JObE1KNWs4YmpLZmtQbGhPZzdSQ3I2REpieTNvT2tyUGNGVW5iT1FCblFxMXJPSzYwOEFib24yS2g1MkpSOGROQkRGMzE4OFBzYmcvRWtpc2VsTHBnZzNYRitqYVJTNHlSVk5VWlNGYU9rdW15RVZKOTN1VlQxdjFTVEZiUUxNZ0FNS2pVY0FVZ0FRUjc1NktDSEx2cnFneCsrWVE3alNSU1BxNmlaTGhwanAwbmxtRnVrY21TZFZGMHhWYW92dTFGU1F5WkxhdEJFU1ZWZkxhbnlrU3BJNVFWd1ZHc1VqR1BhdTJGOGYvTElWeDMwdkM3NitPQ0hMLzdkTE1hVEtCNVhkZHNVcVp6clQ4NjVXU3BtMTBuNXpHbFNWamRkeXErZklSWGpwMHZscUxvYzRFV1RWTFI2d0JWcXhCQVhoZ29QaVFybHp5dVE3Njh3UGg4ZDlOQkZYMzI4SDc3NHcyRThwNEJuMkUxbmxNZE5mdmhLbWVTajVzSFJNbnJSVlhMNWdob1pmTysxTXZDdUc3U3pKazZjcmhXb2xRNllyMVRtUjh3QkNSWnY3RG1tbmZOYTBRRDVQUExSUVE5ZDlQSEJEMS84NFRDZTVQRzQ1OVBYeWJQcFNiSXNVeU9QWk1iSXZabVJNaXM5WERzTW16OWV6cis3VnNwbjNTTGx0VE55WUJkZnEvTWpWY3NjQ2tTdzRtZlBNZTJjMTNuVTkxY2duNDhPZXVpaWp3OSsrT0lQaC9Fa2o4ZHRYZktNYkZueXRHeDg1REZablY0Z3Ercm55c3ZwRzdYakhKOUV4VkdCT25SNjRhcmhOK3RpaXFwbENHUTRERU54VEx0V3RlOUhmL0xJUndjOWROSEhCejk4OFlmRGVKTEg0NXBlK1VhYVh2NUttbDlva3BhblA1RnRUNnlRell1ZmxQZnI3NVFYMDVPMThxakNJZmRmSXhXMytncWZOQ00zNS9waGo5VTdDN0pnbmxVZ2YweTdEcU8rSC8zSkl4OGQ5TkJGSHgvODhNVWZEdU5KSG85YnZhbERWamQyeUpxUDk4dUdWWHRseSt2YlpkdXpqZEw4K0t2U2tGNGt5OU5UWkg0bU4vZFJtVHBVK3JsU0Y1UCtjayt2QUxvK3EyQ3ZGVTI3UDA4LytwTkhQanJvb1lzK1B2amhpejhjeHBNOEhyZDVWNXMwN3N6S3V1Mis4WXNPYVZqYkxvMXY3NWJQWG1yUnFsdWJlVWhlUzlkMWcybUZkdzJWekozVlEydHpsNEY4WnVEM0hBZHphakFrQmtEb29JY3UrdmpnaHkvK2NKeHVIdnFIMzZDQTUvTVhtLzhWbnVqL3NGUDkvb1NudHRQRjQzNDQwQ2JmZGJUSkY5bFcrZlMzTmxuNy9YNnRMcW90Q3JZd00wcW0xby9RaFJhcmRhcTJiTW9NSFFLMWl2MWVqMzA3NStsSGYvS2lCWVErUHZqaGl6OGN4cE04SHJmM2NJZnMvcU5kZmo2VWxhLzN0OHFXMzl0a3piZnRPbFJ0ZUdlUC9ndHRXZnFXYk1nc2xoWDFNMlZwWnB6Y2tSbWgxVHBpNFZpNTVJR0pNdWlleVhMaHZGcmRjMHc3NStsSGYvTElSd2M5ZEhWSTlqNzQ0WXMvSE1hVFBCNTM0R2ludEI4OXBBMDdEbWExd2piOTJpWU5YN2FmTUZTMkxGdWxxL0dQMHZmSkcvWFQ1S24wQkhuUVYrdzhiOHpxZmJZUDloelR6bm42MFo4ODhzTkRJdnI0NEljdi9uQVlUL0o0dW91SWl0clptWlZ2Mmx2bHM3MnRzdUduYlBlY3kxQzJkZmwzdXJDaU9wc2VmVTRyRmNQMzZtK1h0K3RueThyNldicm5tSGJPMDQvKzVKR1BUakNub284UGZ2amlIMzZUakNjNVBJNy95QjQ1cUkyN092ZnJIRWUxTVd5dDM1RmJ2T2xjK0dGV3E1TFZ1YzY5ejZ5VGxxYyswSXBWWXk3OS9GNlBmVHZuNlVkLzhzalhLd3V2aHk3NitPQ0hMLzV3R0UveWVGenJrUVBkOHl3bkdhcW90cGEySEZqakw5bmM0cTNGQzI3MmxkN1FyZ2JyMzkyblpodFg3cEpOSzM2VnpXL3UxRDNIdEhPZWZ2UW5qM3gwMEVNWGZYend3emVZWDg4a0QzTzg4Y1RuMFlWMUdJb0YwNCsrMmtpZzhqN2Yxd1huTCtlb1NBQWJ2c29OY2F1YmZUVDUyQktLcHE1MmhsYmZqLzdra1k4T2V1aWlqdzkrWVNqalNSNlBpNEw5NW9NNUw0RGpNbzdWT0VMTnJibjVkK3VlTnIzTTR6TUNGbHZSb0ozejlLTS9lZVNqZzE0QWd3OSswVGZJZUpMRjQ1alhDSWFsOEZBWkFGSjFBU1JER1lMQlp4VlVaNzRJUGtPZ1Aza0JCSG9CU0hoSUpBSVc0MGtXajE2ZEJTditjUFFFR3dZT29QUEY3b2h4VCtaUno0REZlSkxGNHpxUEhaWndIRHoyUjQ4UmZnSFJ5UGRDbzVGUE84cGdQTW5pY1VlUEg1TndIRDUrNUl4SGxNRjRrc1hqanY5NVhDd3M0b1FUMjJ5THVWa1IyV1pGWkpzVmtXMVdSTGJaWmtWa214V1JiVlpFdGxrUjJXYWJGcEY5NG1vUit4TnIrOXVROGNUKzI1bjlsZHA0WXY4VjM3NHZZenl4djA5azM5d3pudGpmYkxUdkVCdFA3TzlZMjY4WmpDZjJyejMrejc4N3M5L0JuYUxmbmRrdlBJMG45aTlnN2JmbXhoUDd0L2gyMXd2amlYMVhFTHYvanZIRXZqK1IzUW5NZUdMZktjM3UyV2ozYkl4OXowYTdPNnJ4eEw1N3JOMm4yWGhpMzhmYTdoaHZQTEh2cUcvUHJqQ2UyTS8yc0tmb0dFL3Nwd3paODhYc2VXZXhuM2RtVHhZMG50aFBYclJubkJwUDdHZkEydE9XalNmMjA2anR1ZS9HRTVmSDlTUWNqZExDMGg2anBMQWtiK1RMK1NlZmZDL1VlUDdiUEs2NG9GaE9Ob29LaXZKR0hGM2pTUmFQSzNBRlltRVJKNXpmeE1JaVp0aWJZR0ZGWkdGRlpHRkZaUEcvajc4QVRVOVV0eURVNGRZQUFBQUFTVVZPUks1Q1lJST0nLAogICAgICAgICAgICAgICAgICAgIFtbLTkwLjAsIC0xODAuMF0sIFs5MC4wLCAxODAuMF1dLAogICAgICAgICAgICAgICAgICAgIHsib3BhY2l0eSI6IDAuMjV9CiAgICAgICAgICAgICAgICAgICAgKS5hZGRUbyhtYXBfZGNlYmU0NjYwNDcwNDExMmI2NzM3ODRjMGU5NDRiNDEpOwogICAgICAgICAgICAKPC9zY3JpcHQ+\" style=\"position:absolute;width:100%;height:100%;left:0;top:0;\" allowfullscreen webkitallowfullscreen mozallowfullscreen></iframe></div></div>"
      ],
      "text/plain": [
       "<folium.folium.Map at 0x7f1310429860>"
      ]
     },
     "execution_count": 4,
     "metadata": {},
     "output_type": "execute_result"
    }
   ],
   "source": [
    "from folium import plugins\n",
    "\n",
    "m = folium.Map(location=[lat.mean(), lon.mean()], zoom_start=1)\n",
    "\n",
    "plugins.ImageOverlay(colored_data,\n",
    "                     [[lat.min(), lon.min()], [lat.max(), lon.max()]],\n",
    "                     opacity=0.25).add_to(m)\n",
    "\n",
    "m.save(os.path.join('results', 'GeodedeticImageOverlay_0.html'))\n",
    "\n",
    "m"
   ]
  },
  {
   "cell_type": "markdown",
   "metadata": {},
   "source": [
    "# Good"
   ]
  },
  {
   "cell_type": "code",
   "execution_count": 5,
   "metadata": {
    "collapsed": false
   },
   "outputs": [
    {
     "data": {
      "text/html": [
       "<div style=\"width:100%;\"><div style=\"position:relative;width:100%;height:0;padding-bottom:60%;\"><iframe src=\"data:text/html;base64,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\" style=\"position:absolute;width:100%;height:100%;left:0;top:0;\" allowfullscreen webkitallowfullscreen mozallowfullscreen></iframe></div></div>"
      ],
      "text/plain": [
       "<folium.folium.Map at 0x7f130e8f6a90>"
      ]
     },
     "execution_count": 5,
     "metadata": {},
     "output_type": "execute_result"
    }
   ],
   "source": [
    "m = folium.Map(location=[lat.mean(), lon.mean()], zoom_start=1)\n",
    "\n",
    "plugins.ImageOverlay(colored_data,\n",
    "                     [[lat.min(), lon.min()], [lat.max(), lon.max()]],\n",
    "                     mercator_project=True,\n",
    "                     opacity=0.25).add_to(m)\n",
    "\n",
    "m.save(os.path.join('results', 'GeodedeticImageOverlay_1.html'))\n",
    "\n",
    "m"
   ]
  },
  {
   "cell_type": "markdown",
   "metadata": {},
   "source": [
    "# Same as above but with cartopy"
   ]
  },
  {
   "cell_type": "code",
   "execution_count": 6,
   "metadata": {
    "collapsed": false
   },
   "outputs": [
    {
     "data": {
      "text/html": [
       "<div style=\"width:100%;\"><div style=\"position:relative;width:100%;height:0;padding-bottom:60%;\"><iframe src=\"data:text/html;base64,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\" style=\"position:absolute;width:100%;height:100%;left:0;top:0;\" allowfullscreen webkitallowfullscreen mozallowfullscreen></iframe></div></div>"
      ],
      "text/plain": [
       "<folium.folium.Map at 0x7f130e8f6c88>"
      ]
     },
     "execution_count": 6,
     "metadata": {},
     "output_type": "execute_result"
    }
   ],
   "source": [
    "import cartopy.crs as ccrs\n",
    "from cartopy.img_transform import warp_array\n",
    "\n",
    "source_extent = [lon.min(), lon.max(), lat.min(), lat.max()]\n",
    "\n",
    "new_data = warp_array(colored_data,\n",
    "                      target_proj=ccrs.GOOGLE_MERCATOR,\n",
    "                      source_proj=ccrs.PlateCarree(),\n",
    "                      target_res=data.shape,\n",
    "                      source_extent=source_extent,\n",
    "                      target_extent=None,\n",
    "                      mask_extrapolated=False)\n",
    "\n",
    "\n",
    "m = folium.Map(location=[lat.mean(), lon.mean()], zoom_start=1)\n",
    "\n",
    "plugins.ImageOverlay(new_data[0],\n",
    "                     [[lat.min(), lon.min()], [lat.max(), lon.max()]],\n",
    "                     opacity=0.25).add_to(m)\n",
    "\n",
    "m.save(os.path.join('results', 'GeodedeticImageOverlay_2.html'))\n",
    "\n",
    "m"
   ]
  },
  {
   "cell_type": "markdown",
   "metadata": {},
   "source": [
    "TODO: Try [rasterio](https://github.com/mapbox/rasterio/blob/ca75cf0a842943c1b3da4522e6ea3500215130fd/docs/reproject.rst).  Rasterio can warp images and arrays."
   ]
  },
  {
   "cell_type": "markdown",
   "metadata": {},
   "source": [
    "# Compare to original"
   ]
  },
  {
   "cell_type": "code",
   "execution_count": 7,
   "metadata": {
    "collapsed": false
   },
   "outputs": [
    {
     "data": {
      "text/html": [
       "\n",
       "        <iframe\n",
       "            width=\"900\"\n",
       "            height=\"750\"\n",
       "            src=\"http://scitools.org.uk/cartopy/docs/latest/examples/waves.html\"\n",
       "            frameborder=\"0\"\n",
       "            allowfullscreen\n",
       "        ></iframe>\n",
       "        "
      ],
      "text/plain": [
       "<IPython.lib.display.IFrame at 0x7f131035e860>"
      ]
     },
     "execution_count": 7,
     "metadata": {},
     "output_type": "execute_result"
    }
   ],
   "source": [
    "from IPython.display import IFrame\n",
    "\n",
    "IFrame(\"http://scitools.org.uk/cartopy/docs/latest/examples/waves.html\", width=900, height=750)"
   ]
  }
 ],
 "metadata": {
  "kernelspec": {
   "display_name": "Python 3",
   "language": "python",
   "name": "python3"
  },
  "language_info": {
   "codemirror_mode": {
    "name": "ipython",
    "version": 3
   },
   "file_extension": ".py",
   "mimetype": "text/x-python",
   "name": "python",
   "nbconvert_exporter": "python",
   "pygments_lexer": "ipython3",
   "version": "3.5.2"
  }
 },
 "nbformat": 4,
 "nbformat_minor": 0
}
