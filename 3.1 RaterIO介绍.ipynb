{
 "cells": [
  {
   "cell_type": "markdown",
   "id": "bd44a82b-6d1d-4d9a-a3f8-20fbae037594",
   "metadata": {},
   "source": [
    "在 RasterIO 之前，有一个用于访问GIS字段中使用的许多不同类型的栅格数据文件的Python选择， 即 GDAL （ Geospatial Data Abstraction Library）。 这个绑定扩展了 Python，但很少为 GDAL 的 C 语言 API提供抽象。 这意味着使用它们的 Python 程序趋向于像C程序一样读取和运行。 例如，GDAL 的 Python 绑定要求用户注意空的C指针，因为可能导致程序崩溃。 这是不好的：在其他考虑因素中，我们选择了 Python 而不是 C 来避免指针问题。\n",
    "\n",
    "Rasterio的目标是成为这种栅格数据库——使用更少的非惯用扩展类和更多的惯用python类型和协议表达gdal的数据模型， 同时执行与 GDAL 的 Python 绑定一样快。\n",
    "\n",
    "高性能、低认知负荷、更清晰、更透明的代码。这就 RasterIO 的目的。"
   ]
  },
  {
   "cell_type": "markdown",
   "id": "ca6290de-634e-4443-87fe-166aa073a918",
   "metadata": {},
   "source": [
    "# 3.1 RaterIO介绍\n",
    "\n",
    "RasterIO是一个用于读取和处理地理空间栅格数据的Python库。它建立在GDAL（Geospatial Data Abstraction Library）之上，提供了更加Python的接口，以便于用户读取、处理和分析地理空间栅格数据。\n",
    "\n",
    "与GDAL相比，RasterIO有以下优点：\n",
    "\n",
    "   - 更加Python的API，更容易上手和使用；\n",
    "   - 支持GeoJSON格式的数据读写；\n",
    "   - 依赖性较少，易于安装和维护。\n",
    "\n",
    "RasterIO支持的栅格数据格式非常多，包括TIFF、JPEG、PNG、HDF、NetCDF等。同时，它还支持不同投影、分辨率、数据类型的栅格数据，能够处理从卫星、无人机、传感器等设备获取的多源数据。\n",
    "\n",
    "## 3.1.1 依赖关系"
   ]
  },
  {
   "cell_type": "markdown",
   "id": "20a733f1-f605-4441-9c98-ca35130e232e",
   "metadata": {},
   "source": [
    "RasterIO 有一个C库依赖项： GDAL >=1.11 。 GDAL 本身依赖于大多数主要操作系统提供的许多其他库，也依赖于非标准 Geos 和 Proj4 库。\n",
    "\n",
    "Python 包依赖项（另请参见requirements.txt）： affine , cligj , click , enum34 , numpy 。\n",
    "\n",
    "开发还需要（参见 requirements-dev.txt ） Cython和其他包。"
   ]
  },
  {
   "cell_type": "markdown",
   "id": "d3531f57-7276-4632-a94d-1f0cea2f12c5",
   "metadata": {},
   "source": [
    "## 3.1.2. 从二进制文件安装"
   ]
  },
  {
   "cell_type": "markdown",
   "id": "ddab4e27-5402-453d-baa1-db9a3f811280",
   "metadata": {},
   "source": [
    "OS X"
   ]
  },
  {
   "cell_type": "markdown",
   "id": "7e1b1902-1bbe-46a1-98cb-7a6fd2a806b0",
   "metadata": {},
   "source": [
    "包含gdal、geos和proj4库的二进制 Wheel 可用于OS X 10.7+版本，从Rasterio 0.17版开始。 要安装，请运行 pip install rasterio 。 这些二进制 Wheel 是较新版本的PIP的首选。 如果不需要这些 Wheel ，并且希望从源分发版安装，请运行 pip install rasterio –no-use-wheel 相反。\n",
    "\n",
    "包含的gdal库是相当小的，只提供gdal附带的默认启用的格式驱动程序。 要获得对更多格式的访问权，必须从源分发版构建（请参见下文）。\n",
    "\n",
    "其他操作系统的二进制 Wheel 将在未来的版本中提供。"
   ]
  },
  {
   "cell_type": "markdown",
   "id": "f34a4f33-9821-401f-a919-38294481b019",
   "metadata": {},
   "source": [
    "Windows"
   ]
  },
  {
   "cell_type": "markdown",
   "id": "939a0338-2cce-4b92-92d0-502d16134ee4",
   "metadata": {},
   "source": [
    "RasterIO 和 GDAL 的二进制 Wheel 由Christoph Gohlke创建，可从他的网站上获得。\n",
    "\n",
    "要安装Rasterio，请下载系统的两个二进制文件 (rasterio 和 GDAL ）从下载文件夹中运行类似的程序：\n",
    "\n",
    "$ pip install -U pip $ pip install GDAL-1.11.2-cp27-none-win32.whl $ pip install rasterio-0.24.0-cp27-none-win32.whl"
   ]
  },
  {
   "cell_type": "markdown",
   "id": "c5f516fd-3be9-4c4e-9e80-6137270a85c5",
   "metadata": {},
   "source": [
    "## 3.1.3 与 Python 一起安装"
   ]
  },
  {
   "cell_type": "markdown",
   "id": "54ccef4b-a12c-4685-958c-714a6dc9582c",
   "metadata": {},
   "source": [
    "要在 Python 发行版上安装 RasterIO ，请访问 rasterio conda-forge 安装说明页。 此构建与Pypi上的 RasterIO 分布分开维护，包装问题应在 rasterio conda-forge 问题跟踪器。"
   ]
  },
  {
   "cell_type": "markdown",
   "id": "9e730de0-5d48-4f9e-87be-69c50193ba8f",
   "metadata": {},
   "source": [
    "## 3.1.4从源分发安装"
   ]
  },
  {
   "cell_type": "markdown",
   "id": "2a478e47-f11d-41ed-bb38-f53d9f99b196",
   "metadata": {},
   "source": [
    "RasterIO 是一个 Python c 扩展，要构建它，您需要一个工作的编译器（Xcodeon OSX等）。 您还需要预安装numpy；运行rasterio安装脚本需要numpy头文件。 必须先安装numpy（通过指定的需求文件），然后才能安装 RasterIO。"
   ]
  },
  {
   "cell_type": "markdown",
   "id": "e269c4f3-918c-4113-aa5a-37be529b9a08",
   "metadata": {},
   "source": [
    "## 3.1.5 Linux系统"
   ]
  },
  {
   "cell_type": "markdown",
   "id": "162a11e3-cc02-401c-a4b5-55e56bdc421b",
   "metadata": {},
   "source": [
    "以下命令改编自Rasterio的Travis CI配置。\n",
    "\n",
    "$ sudo add-apt-repository ppa:ubuntugis/ppa $ sudo apt-get update $ sudo apt-get install python-numpy gdal-bin libgdal-dev $ pip install rasterio\n",
    "\n",
    "根据需要为Linux系统调整它们。"
   ]
  },
  {
   "cell_type": "markdown",
   "id": "c33aedde-cad3-47b3-ac70-c427fb0c0cea",
   "metadata": {},
   "source": [
    "## 3.1.6 OS X"
   ]
  },
  {
   "cell_type": "markdown",
   "id": "da28c20c-19ce-4be9-8528-70dfb4dd1f08",
   "metadata": {},
   "source": [
    "对于基于自制的Python环境，请执行以下操作。\n",
    "\n",
    "$ brew install gdal $ pip install rasterio"
   ]
  },
  {
   "cell_type": "markdown",
   "id": "a09c9a36-67df-4ed1-8315-23718f65cdf9",
   "metadata": {},
   "source": [
    "### Windows"
   ]
  },
  {
   "cell_type": "markdown",
   "id": "a7bcdebe-0d76-41b1-93e4-e30554d8adcf",
   "metadata": {},
   "source": [
    "您可以从下载gdal的二进制发行版 , 您还需要下载已编译的库和头文件（包括文件）。\n",
    "\n",
    "在Windows上从源代码构建时，必须知道setup.py不能依赖仅在UNIX系统上存在的gdal config来发现Rasterio需要编译其C扩展名的头文件和库的位置。 在Windows上，这些路径需要由用户提供。 您需要找到gdal的include文件和库文件，并使用如下的setup.py。\n",
    "\n",
    "$ python setup.py build_ext -I<path to gdal include files> -lgdal_i -L<path to gdal library> $ python setup.py install\n",
    "\n",
    "我们已经成功地使用Microsoft的Visual Studio的同一版本编译了代码，该版本用于编译Python的目标版本（有关使用的版本的详细信息 here 。）\n",
    "\n",
    "注意：GDAL DLL（gdal111.dll）和gdal数据目录需要位于Windows路径中，否则Rasterio将无法工作。"
   ]
  }
 ],
 "metadata": {
  "kernelspec": {
   "display_name": "Python 3 (ipykernel)",
   "language": "python",
   "name": "python3"
  },
  "language_info": {
   "codemirror_mode": {
    "name": "ipython",
    "version": 3
   },
   "file_extension": ".py",
   "mimetype": "text/x-python",
   "name": "python",
   "nbconvert_exporter": "python",
   "pygments_lexer": "ipython3",
   "version": "3.10.11"
  }
 },
 "nbformat": 4,
 "nbformat_minor": 5
}
